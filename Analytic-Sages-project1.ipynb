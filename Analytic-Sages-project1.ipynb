{
 "cells": [
  {
   "cell_type": "markdown",
   "id": "c61b7242",
   "metadata": {},
   "source": [
    "# **Python problems on Datastructure**\n",
    "\n",
    " **Problem 1: Cryptocurrency Token Data**  \n",
    "This data structure represents information about different cryptocurrency tokens listed on a decentralized exchange (DEX)."
   ]
  },
  {
   "cell_type": "code",
   "execution_count": 1,
   "id": "617a46f2",
   "metadata": {},
   "outputs": [],
   "source": [
    "crypto_tokens = [\n",
    "    {\n",
    "        \"name\": \"Token A\",\n",
    "        \"symbol\": \"TKA\",\n",
    "        \"blockchain\": \"Ethereum\",\n",
    "        \"current_price_usd\": 100.0,\n",
    "        \"transaction_history\": [\n",
    "            {\n",
    "                \"date\": \"2024-01-10\",\n",
    "                \"prices\": {\n",
    "                    \"open\": 98.0,\n",
    "                    \"close\": 100.0,\n",
    "                    \"high\": 101.0,\n",
    "                    \"low\": 97.0\n",
    "                },\n",
    "                \"volume\": 12000\n",
    "            },\n",
    "            {\n",
    "                \"date\": \"2024-01-09\",\n",
    "                \"prices\": {\n",
    "                    \"open\": 97.0,\n",
    "                    \"close\": 98.0,\n",
    "                    \"high\": 99.0,\n",
    "                    \"low\": 96.0\n",
    "                },\n",
    "                \"volume\": 15000\n",
    "            }\n",
    "        ],\n",
    "        \"supported_chains\": [\"Ethereum\", \"Polygon\"]\n",
    "    },\n",
    "    {\n",
    "        \"name\": \"Token B\",\n",
    "        \"symbol\": \"TKB\",\n",
    "        \"blockchain\": \"Binance Smart Chain\",\n",
    "        \"current_price_usd\": 200.0,\n",
    "        \"transaction_history\": [\n",
    "            {\n",
    "                \"date\": \"2024-01-10\",\n",
    "                \"prices\": {\n",
    "                    \"open\": 198.0,\n",
    "                    \"close\": 200.0,\n",
    "                    \"high\": 202.0,\n",
    "                    \"low\": 196.0\n",
    "                },\n",
    "                \"volume\": 18000\n",
    "            },\n",
    "            {\n",
    "                \"date\": \"2024-01-09\",\n",
    "                \"prices\": {\n",
    "                    \"open\": 196.0,\n",
    "                    \"close\": 198.0,\n",
    "                    \"high\": 199.0,\n",
    "                    \"low\": 195.0\n",
    "                },\n",
    "                \"volume\": 17000\n",
    "            }\n",
    "        ],\n",
    "        \"supported_chains\": [\"Binance Smart Chain\", \"Avalanche\"]\n",
    "    },\n",
    "    {\n",
    "        \"name\": \"Token C\",\n",
    "        \"symbol\": \"TKC\",\n",
    "        \"blockchain\": \"Solana\",\n",
    "        \"current_price_usd\": 300.0,\n",
    "        \"transaction_history\": [\n",
    "            {\n",
    "                \"date\": \"2024-01-10\",\n",
    "                \"prices\": {\n",
    "                    \"open\": 295.0,\n",
    "                    \"close\": 300.0,\n",
    "                    \"high\": 302.0,\n",
    "                    \"low\": 294.0\n",
    "                },\n",
    "                \"volume\": 22000\n",
    "            },\n",
    "            {\n",
    "                \"date\": \"2024-01-09\",\n",
    "                \"prices\": {\n",
    "                    \"open\": 294.0,\n",
    "                    \"close\": 295.0,\n",
    "                    \"high\": 296.0,\n",
    "                    \"low\": 293.0\n",
    "                },\n",
    "                \"volume\": 21000\n",
    "            }\n",
    "        ],\n",
    "        \"supported_chains\": [\"Solana\", \"Fantom\"]\n",
    "    }\n",
    "]\n",
    "\n"
   ]
  },
  {
   "cell_type": "markdown",
   "id": "c07653c1",
   "metadata": {},
   "source": [
    "# Task 1: Display the current price of \"Token B\""
   ]
  },
  {
   "cell_type": "code",
   "execution_count": 5,
   "id": "6dcc225d",
   "metadata": {},
   "outputs": [
    {
     "name": "stdout",
     "output_type": "stream",
     "text": [
      "200.0\n"
     ]
    }
   ],
   "source": [
    "# solution \n",
    "\n",
    "print(crypto_tokens[1]['current_price_usd'])"
   ]
  },
  {
   "cell_type": "markdown",
   "id": "9febe2a6",
   "metadata": {},
   "source": [
    "# Task 2: Add a new token \"Token D\" with some initial data to the `crypto_tokens` list."
   ]
  },
  {
   "cell_type": "code",
   "execution_count": 6,
   "id": "6cb3b741",
   "metadata": {},
   "outputs": [
    {
     "name": "stdout",
     "output_type": "stream",
     "text": [
      "[{'name': 'Token A', 'symbol': 'TKA', 'blockchain': 'Ethereum', 'current_price_usd': 100.0, 'transaction_history': [{'date': '2024-01-10', 'prices': {'open': 98.0, 'close': 100.0, 'high': 101.0, 'low': 97.0}, 'volume': 12000}, {'date': '2024-01-09', 'prices': {'open': 97.0, 'close': 98.0, 'high': 99.0, 'low': 96.0}, 'volume': 15000}], 'supported_chains': ['Ethereum', 'Polygon']}, {'name': 'Token B', 'symbol': 'TKB', 'blockchain': 'Binance Smart Chain', 'current_price_usd': 200.0, 'transaction_history': [{'date': '2024-01-10', 'prices': {'open': 198.0, 'close': 200.0, 'high': 202.0, 'low': 196.0}, 'volume': 18000}, {'date': '2024-01-09', 'prices': {'open': 196.0, 'close': 198.0, 'high': 199.0, 'low': 195.0}, 'volume': 17000}], 'supported_chains': ['Binance Smart Chain', 'Avalanche']}, {'name': 'Token C', 'symbol': 'TKC', 'blockchain': 'Solana', 'current_price_usd': 300.0, 'transaction_history': [{'date': '2024-01-10', 'prices': {'open': 295.0, 'close': 300.0, 'high': 302.0, 'low': 294.0}, 'volume': 22000}, {'date': '2024-01-09', 'prices': {'open': 294.0, 'close': 295.0, 'high': 296.0, 'low': 293.0}, 'volume': 21000}], 'supported_chains': ['Solana', 'Fantom']}, {'name': 'Token D', 'symbol': 'TKD', 'blockchain': 'Cardano', 'current_price_usd': 150.0, 'transaction_history': [{'date': '2024-01-10', 'prices': {'open': 148.0, 'close': 150.0, 'high': 152.0, 'low': 147.0}, 'volume': 13000}, {'date': '2024-01-09', 'prices': {'open': 147.0, 'close': 148.0, 'high': 149.0, 'low': 146.0}, 'volume': 12500}], 'supported_chains': ['Cardano', 'Polkadot']}]\n"
     ]
    }
   ],
   "source": [
    "# solution\n",
    "\n",
    "crypto_tokens.append(\n",
    "    {\n",
    "    \"name\": \"Token D\",\n",
    "    \"symbol\": \"TKD\",\n",
    "    \"blockchain\": \"Cardano\",\n",
    "    \"current_price_usd\": 150.0,\n",
    "    \"transaction_history\": [\n",
    "        {\n",
    "            \"date\": \"2024-01-10\",\n",
    "            \"prices\": {\n",
    "                \"open\": 148.0,\n",
    "                \"close\": 150.0,\n",
    "                \"high\": 152.0,\n",
    "                \"low\": 147.0\n",
    "            },\n",
    "            \"volume\": 13000\n",
    "        },\n",
    "        {\n",
    "            \"date\": \"2024-01-09\",\n",
    "            \"prices\": {\n",
    "                \"open\": 147.0,\n",
    "                \"close\": 148.0,\n",
    "                \"high\": 149.0,\n",
    "                \"low\": 146.0\n",
    "            },\n",
    "            \"volume\": 12500\n",
    "        }\n",
    "    ],\n",
    "    \"supported_chains\": [\"Cardano\", \"Polkadot\"]\n",
    "}\n",
    ")\n",
    "\n",
    "print(crypto_tokens)"
   ]
  },
  {
   "cell_type": "markdown",
   "id": "ad7c53be",
   "metadata": {},
   "source": [
    "# Task 3: Update the current price of \"Token C\" to 310.0."
   ]
  },
  {
   "cell_type": "code",
   "execution_count": null,
   "id": "8c2c139c",
   "metadata": {},
   "outputs": [
    {
     "name": "stdout",
     "output_type": "stream",
     "text": [
      "310.0\n",
      "{'name': 'Token C', 'symbol': 'TKC', 'blockchain': 'Solana', 'current_price_usd': 310.0, 'transaction_history': [{'date': '2024-01-10', 'prices': {'open': 295.0, 'close': 300.0, 'high': 302.0, 'low': 294.0}, 'volume': 22000}, {'date': '2024-01-09', 'prices': {'open': 294.0, 'close': 295.0, 'high': 296.0, 'low': 293.0}, 'volume': 21000}], 'supported_chains': ['Solana', 'Fantom']}\n"
     ]
    }
   ],
   "source": [
    "# solution\n",
    "\n",
    "crypto_tokens[2].update({'current_price_usd':310.0})\n",
    "\n",
    "print(crypto_tokens[2]['current_price_usd'])"
   ]
  },
  {
   "cell_type": "code",
   "execution_count": 23,
   "id": "9031aac9",
   "metadata": {},
   "outputs": [
    {
     "data": {
      "text/plain": [
       "{'name': 'Token C',\n",
       " 'symbol': 'TKC',\n",
       " 'blockchain': 'Solana',\n",
       " 'current_price_usd': 310.0,\n",
       " 'transaction_history': [{'date': '2024-01-10',\n",
       "   'prices': {'open': 295.0, 'close': 300.0, 'high': 302.0, 'low': 294.0},\n",
       "   'volume': 22000},\n",
       "  {'date': '2024-01-09',\n",
       "   'prices': {'open': 294.0, 'close': 295.0, 'high': 296.0, 'low': 293.0},\n",
       "   'volume': 21000}],\n",
       " 'supported_chains': ['Solana', 'Fantom']}"
      ]
     },
     "execution_count": 23,
     "metadata": {},
     "output_type": "execute_result"
    }
   ],
   "source": [
    "crypto_tokens[2]"
   ]
  },
  {
   "cell_type": "markdown",
   "id": "9558f7da",
   "metadata": {},
   "source": [
    "# Task 4: Remove the transaction history for \"Token A\" on \"2024-01-09\"."
   ]
  },
  {
   "cell_type": "code",
   "execution_count": 28,
   "id": "80e6aa30",
   "metadata": {},
   "outputs": [
    {
     "data": {
      "text/plain": [
       "[{'date': '2024-01-10',\n",
       "  'prices': {'open': 98.0, 'close': 100.0, 'high': 101.0, 'low': 97.0},\n",
       "  'volume': 12000},\n",
       " {'date': '2024-01-09',\n",
       "  'prices': {'open': 97.0, 'close': 98.0, 'high': 99.0, 'low': 96.0},\n",
       "  'volume': 15000}]"
      ]
     },
     "execution_count": 28,
     "metadata": {},
     "output_type": "execute_result"
    }
   ],
   "source": [
    "crypto_tokens[0]['transaction_history']"
   ]
  },
  {
   "cell_type": "code",
   "execution_count": 29,
   "id": "36653de0",
   "metadata": {},
   "outputs": [
    {
     "data": {
      "text/plain": [
       "{'date': '2024-01-09',\n",
       " 'prices': {'open': 97.0, 'close': 98.0, 'high': 99.0, 'low': 96.0},\n",
       " 'volume': 15000}"
      ]
     },
     "execution_count": 29,
     "metadata": {},
     "output_type": "execute_result"
    }
   ],
   "source": [
    "# solution\n",
    "\n",
    "crypto_tokens[0]['transaction_history'].pop(1)"
   ]
  },
  {
   "cell_type": "code",
   "execution_count": 30,
   "id": "8255c47c",
   "metadata": {},
   "outputs": [
    {
     "data": {
      "text/plain": [
       "[{'date': '2024-01-10',\n",
       "  'prices': {'open': 98.0, 'close': 100.0, 'high': 101.0, 'low': 97.0},\n",
       "  'volume': 12000}]"
      ]
     },
     "execution_count": 30,
     "metadata": {},
     "output_type": "execute_result"
    }
   ],
   "source": [
    "crypto_tokens[0]['transaction_history']"
   ]
  },
  {
   "cell_type": "markdown",
   "id": "76654d9c",
   "metadata": {},
   "source": [
    "# Task 5: Display the closing price of \"Token B\" on \"2024-01-10\"."
   ]
  },
  {
   "cell_type": "code",
   "execution_count": null,
   "id": "8170ee30",
   "metadata": {},
   "outputs": [],
   "source": []
  }
 ],
 "metadata": {
  "kernelspec": {
   "display_name": "python_problem1",
   "language": "python",
   "name": "python3"
  },
  "language_info": {
   "codemirror_mode": {
    "name": "ipython",
    "version": 3
   },
   "file_extension": ".py",
   "mimetype": "text/x-python",
   "name": "python",
   "nbconvert_exporter": "python",
   "pygments_lexer": "ipython3",
   "version": "3.10.11"
  }
 },
 "nbformat": 4,
 "nbformat_minor": 5
}
