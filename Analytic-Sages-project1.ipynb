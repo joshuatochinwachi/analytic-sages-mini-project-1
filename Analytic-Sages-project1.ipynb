{
 "cells": [
  {
   "cell_type": "markdown",
   "id": "c61b7242",
   "metadata": {},
   "source": [
    "# **Python problems on Datastructure**\n",
    "---\n",
    "\n",
    "## **Problem 1: Cryptocurrency Token Data**  \n",
    "This data structure represents information about different cryptocurrency tokens listed on a decentralized exchange (DEX).\n",
    "\n",
    "\n",
    "```python\n",
    "crypto_tokens = [\n",
    "    {\n",
    "        \"name\": \"Token A\",\n",
    "        \"symbol\": \"TKA\",\n",
    "        \"blockchain\": \"Ethereum\",\n",
    "        \"current_price_usd\": 100.0,\n",
    "        \"transaction_history\": [\n",
    "            {\n",
    "                \"date\": \"2024-01-10\",\n",
    "                \"prices\": {\n",
    "                    \"open\": 98.0,\n",
    "                    \"close\": 100.0,\n",
    "                    \"high\": 101.0,\n",
    "                    \"low\": 97.0\n",
    "                },\n",
    "                \"volume\": 12000\n",
    "            },\n",
    "            {\n",
    "                \"date\": \"2024-01-09\",\n",
    "                \"prices\": {\n",
    "                    \"open\": 97.0,\n",
    "                    \"close\": 98.0,\n",
    "                    \"high\": 99.0,\n",
    "                    \"low\": 96.0\n",
    "                },\n",
    "                \"volume\": 15000\n",
    "            }\n",
    "        ],\n",
    "        \"supported_chains\": [\"Ethereum\", \"Polygon\"]\n",
    "    },\n",
    "    {\n",
    "        \"name\": \"Token B\",\n",
    "        \"symbol\": \"TKB\",\n",
    "        \"blockchain\": \"Binance Smart Chain\",\n",
    "        \"current_price_usd\": 200.0,\n",
    "        \"transaction_history\": [\n",
    "            {\n",
    "                \"date\": \"2024-01-10\",\n",
    "                \"prices\": {\n",
    "                    \"open\": 198.0,\n",
    "                    \"close\": 200.0,\n",
    "                    \"high\": 202.0,\n",
    "                    \"low\": 196.0\n",
    "                },\n",
    "                \"volume\": 18000\n",
    "            },\n",
    "            {\n",
    "                \"date\": \"2024-01-09\",\n",
    "                \"prices\": {\n",
    "                    \"open\": 196.0,\n",
    "                    \"close\": 198.0,\n",
    "                    \"high\": 199.0,\n",
    "                    \"low\": 195.0\n",
    "                },\n",
    "                \"volume\": 17000\n",
    "            }\n",
    "        ],\n",
    "        \"supported_chains\": [\"Binance Smart Chain\", \"Avalanche\"]\n",
    "    },\n",
    "    {\n",
    "        \"name\": \"Token C\",\n",
    "        \"symbol\": \"TKC\",\n",
    "        \"blockchain\": \"Solana\",\n",
    "        \"current_price_usd\": 300.0,\n",
    "        \"transaction_history\": [\n",
    "            {\n",
    "                \"date\": \"2024-01-10\",\n",
    "                \"prices\": {\n",
    "                    \"open\": 295.0,\n",
    "                    \"close\": 300.0,\n",
    "                    \"high\": 302.0,\n",
    "                    \"low\": 294.0\n",
    "                },\n",
    "                \"volume\": 22000\n",
    "            },\n",
    "            {\n",
    "                \"date\": \"2024-01-09\",\n",
    "                \"prices\": {\n",
    "                    \"open\": 294.0,\n",
    "                    \"close\": 295.0,\n",
    "                    \"high\": 296.0,\n",
    "                    \"low\": 293.0\n",
    "                },\n",
    "                \"volume\": 21000\n",
    "            }\n",
    "        ],\n",
    "        \"supported_chains\": [\"Solana\", \"Fantom\"]\n",
    "    }\n",
    "]\n",
    "```\n",
    "\n",
    "\n",
    "\n",
    "Q1: Read Data \n",
    "\n",
    "Task: Display the current price of \"Token B\".\n",
    "\n",
    "\n",
    "Q2: Write Data  \n",
    "\n",
    "Task: Add a new token \"Token D\" with some initial data to the `crypto_tokens` list.\n",
    "\n",
    "\n",
    "Q3: Update Data  \n",
    "\n",
    "Task: Update the current price of \"Token C\" to 310.0.\n",
    "\n",
    "\n",
    "Q4: Delete Data  \n",
    "\n",
    "Task: Remove the transaction history for \"Token A\" on \"2024-01-09\".\n",
    "\n",
    "\n",
    "Q5: Read Nested Data  \n",
    "\n",
    "Task: Display the closing price of \"Token B\" on \"2024-01-10\".\n",
    "\n",
    "\n",
    "Q6: Update Nested Data  \n",
    "\n",
    "Task: Change the opening price of \"Token A\" on \"2024-01-10\" to 99.0.\n",
    "\n",
    "\n",
    "Q7: Add Nested Data \n",
    "\n",
    "Task: Add a new transaction history entry for \"Token C\" on \"2024-01-11\".\n",
    "\n",
    "\n",
    "Q8: Delete an Item from a List Inside a Dictionary  \n",
    "\n",
    "Task: Remove \"Avalanche\" from the supported chains of \"Token B\"."
   ]
  },
  {
   "cell_type": "code",
   "execution_count": 48,
   "id": "617a46f2",
   "metadata": {},
   "outputs": [],
   "source": [
    "crypto_tokens = [\n",
    "    {\n",
    "        \"name\": \"Token A\",\n",
    "        \"symbol\": \"TKA\",\n",
    "        \"blockchain\": \"Ethereum\",\n",
    "        \"current_price_usd\": 100.0,\n",
    "        \"transaction_history\": [\n",
    "            {\n",
    "                \"date\": \"2024-01-10\",\n",
    "                \"prices\": {\n",
    "                    \"open\": 98.0,\n",
    "                    \"close\": 100.0,\n",
    "                    \"high\": 101.0,\n",
    "                    \"low\": 97.0\n",
    "                },\n",
    "                \"volume\": 12000\n",
    "            },\n",
    "            {\n",
    "                \"date\": \"2024-01-09\",\n",
    "                \"prices\": {\n",
    "                    \"open\": 97.0,\n",
    "                    \"close\": 98.0,\n",
    "                    \"high\": 99.0,\n",
    "                    \"low\": 96.0\n",
    "                },\n",
    "                \"volume\": 15000\n",
    "            }\n",
    "        ],\n",
    "        \"supported_chains\": [\"Ethereum\", \"Polygon\"]\n",
    "    },\n",
    "    {\n",
    "        \"name\": \"Token B\",\n",
    "        \"symbol\": \"TKB\",\n",
    "        \"blockchain\": \"Binance Smart Chain\",\n",
    "        \"current_price_usd\": 200.0,\n",
    "        \"transaction_history\": [\n",
    "            {\n",
    "                \"date\": \"2024-01-10\",\n",
    "                \"prices\": {\n",
    "                    \"open\": 198.0,\n",
    "                    \"close\": 200.0,\n",
    "                    \"high\": 202.0,\n",
    "                    \"low\": 196.0\n",
    "                },\n",
    "                \"volume\": 18000\n",
    "            },\n",
    "            {\n",
    "                \"date\": \"2024-01-09\",\n",
    "                \"prices\": {\n",
    "                    \"open\": 196.0,\n",
    "                    \"close\": 198.0,\n",
    "                    \"high\": 199.0,\n",
    "                    \"low\": 195.0\n",
    "                },\n",
    "                \"volume\": 17000\n",
    "            }\n",
    "        ],\n",
    "        \"supported_chains\": [\"Binance Smart Chain\", \"Avalanche\"]\n",
    "    },\n",
    "    {\n",
    "        \"name\": \"Token C\",\n",
    "        \"symbol\": \"TKC\",\n",
    "        \"blockchain\": \"Solana\",\n",
    "        \"current_price_usd\": 300.0,\n",
    "        \"transaction_history\": [\n",
    "            {\n",
    "                \"date\": \"2024-01-10\",\n",
    "                \"prices\": {\n",
    "                    \"open\": 295.0,\n",
    "                    \"close\": 300.0,\n",
    "                    \"high\": 302.0,\n",
    "                    \"low\": 294.0\n",
    "                },\n",
    "                \"volume\": 22000\n",
    "            },\n",
    "            {\n",
    "                \"date\": \"2024-01-09\",\n",
    "                \"prices\": {\n",
    "                    \"open\": 294.0,\n",
    "                    \"close\": 295.0,\n",
    "                    \"high\": 296.0,\n",
    "                    \"low\": 293.0\n",
    "                },\n",
    "                \"volume\": 21000\n",
    "            }\n",
    "        ],\n",
    "        \"supported_chains\": [\"Solana\", \"Fantom\"]\n",
    "    }\n",
    "]\n",
    "\n"
   ]
  },
  {
   "cell_type": "markdown",
   "id": "c07653c1",
   "metadata": {},
   "source": [
    "### Task 1: Display the current price of \"Token B\""
   ]
  },
  {
   "cell_type": "code",
   "execution_count": 49,
   "id": "6dcc225d",
   "metadata": {},
   "outputs": [
    {
     "name": "stdout",
     "output_type": "stream",
     "text": [
      "200.0\n"
     ]
    }
   ],
   "source": [
    "# solution \n",
    "\n",
    "print(crypto_tokens[1]['current_price_usd'])"
   ]
  },
  {
   "cell_type": "markdown",
   "id": "9febe2a6",
   "metadata": {},
   "source": [
    "### Task 2: Add a new token \"Token D\" with some initial data to the `crypto_tokens` list."
   ]
  },
  {
   "cell_type": "code",
   "execution_count": 50,
   "id": "6cb3b741",
   "metadata": {},
   "outputs": [
    {
     "name": "stdout",
     "output_type": "stream",
     "text": [
      "[{'name': 'Token A', 'symbol': 'TKA', 'blockchain': 'Ethereum', 'current_price_usd': 100.0, 'transaction_history': [{'date': '2024-01-10', 'prices': {'open': 98.0, 'close': 100.0, 'high': 101.0, 'low': 97.0}, 'volume': 12000}, {'date': '2024-01-09', 'prices': {'open': 97.0, 'close': 98.0, 'high': 99.0, 'low': 96.0}, 'volume': 15000}], 'supported_chains': ['Ethereum', 'Polygon']}, {'name': 'Token B', 'symbol': 'TKB', 'blockchain': 'Binance Smart Chain', 'current_price_usd': 200.0, 'transaction_history': [{'date': '2024-01-10', 'prices': {'open': 198.0, 'close': 200.0, 'high': 202.0, 'low': 196.0}, 'volume': 18000}, {'date': '2024-01-09', 'prices': {'open': 196.0, 'close': 198.0, 'high': 199.0, 'low': 195.0}, 'volume': 17000}], 'supported_chains': ['Binance Smart Chain', 'Avalanche']}, {'name': 'Token C', 'symbol': 'TKC', 'blockchain': 'Solana', 'current_price_usd': 300.0, 'transaction_history': [{'date': '2024-01-10', 'prices': {'open': 295.0, 'close': 300.0, 'high': 302.0, 'low': 294.0}, 'volume': 22000}, {'date': '2024-01-09', 'prices': {'open': 294.0, 'close': 295.0, 'high': 296.0, 'low': 293.0}, 'volume': 21000}], 'supported_chains': ['Solana', 'Fantom']}, {'name': 'Token D', 'symbol': 'TKD', 'blockchain': 'Cardano', 'current_price_usd': 150.0, 'transaction_history': [{'date': '2024-01-10', 'prices': {'open': 148.0, 'close': 150.0, 'high': 152.0, 'low': 147.0}, 'volume': 13000}, {'date': '2024-01-09', 'prices': {'open': 147.0, 'close': 148.0, 'high': 149.0, 'low': 146.0}, 'volume': 12500}], 'supported_chains': ['Cardano', 'Polkadot']}]\n"
     ]
    }
   ],
   "source": [
    "# solution\n",
    "\n",
    "crypto_tokens.append(\n",
    "    {\n",
    "    \"name\": \"Token D\",\n",
    "    \"symbol\": \"TKD\",\n",
    "    \"blockchain\": \"Cardano\",\n",
    "    \"current_price_usd\": 150.0,\n",
    "    \"transaction_history\": [\n",
    "        {\n",
    "            \"date\": \"2024-01-10\",\n",
    "            \"prices\": {\n",
    "                \"open\": 148.0,\n",
    "                \"close\": 150.0,\n",
    "                \"high\": 152.0,\n",
    "                \"low\": 147.0\n",
    "            },\n",
    "            \"volume\": 13000\n",
    "        },\n",
    "        {\n",
    "            \"date\": \"2024-01-09\",\n",
    "            \"prices\": {\n",
    "                \"open\": 147.0,\n",
    "                \"close\": 148.0,\n",
    "                \"high\": 149.0,\n",
    "                \"low\": 146.0\n",
    "            },\n",
    "            \"volume\": 12500\n",
    "        }\n",
    "    ],\n",
    "    \"supported_chains\": [\"Cardano\", \"Polkadot\"]\n",
    "}\n",
    ")\n",
    "\n",
    "print(crypto_tokens)"
   ]
  },
  {
   "cell_type": "markdown",
   "id": "ad7c53be",
   "metadata": {},
   "source": [
    "### Task 3: Update the current price of \"Token C\" to 310.0."
   ]
  },
  {
   "cell_type": "code",
   "execution_count": 51,
   "id": "8c2c139c",
   "metadata": {},
   "outputs": [
    {
     "name": "stdout",
     "output_type": "stream",
     "text": [
      "310.0\n"
     ]
    }
   ],
   "source": [
    "# solution\n",
    "\n",
    "crypto_tokens[2].update({'current_price_usd':310.0})\n",
    "\n",
    "# crypto_tokens[2]['current_price_usd'] = 310.0         # this is another way to update the price\n",
    "\n",
    "\n",
    "# .update() is used when you're modifying or adding a key-value pair at the top level of a dictionary.\n",
    "# But .update() is preferred when updating multiple keys at once or when the intention is to cleanly merge a small dictionary into another.\n",
    "\n",
    "print(crypto_tokens[2]['current_price_usd'])"
   ]
  },
  {
   "cell_type": "markdown",
   "id": "e76f0669",
   "metadata": {},
   "source": [
    "✅ Summary of `.update()` Method (Python Dictionary).          # .update() ONLY WORKS ON PYTHON DICTIONARIES\n",
    "\n",
    "- `.update()` is used to **modify** or **add** key-value pairs in a dictionary.\n",
    "- It **updates existing keys** with new values.\n",
    "- It **adds new keys** if they don’t already exist.\n",
    "- It works with:\n",
    "  - Another dictionary\n",
    "  - A list of key-value pairs\n",
    "  - Keyword arguments (`key=value`)\n",
    "- It **modifies the dictionary in place** (does not return a new one).\n",
    "\n",
    " 🔹 Example:\n",
    "\n",
    "user = {'name': 'Alice', 'age': 25}\n",
    "\n",
    "user.update({'age': 26, 'city': 'London'})\n",
    "\n",
    "Result: {'name': 'Alice', 'age': 26, 'city': 'London'}\n"
   ]
  },
  {
   "cell_type": "code",
   "execution_count": 52,
   "id": "9031aac9",
   "metadata": {},
   "outputs": [
    {
     "data": {
      "text/plain": [
       "{'name': 'Token C',\n",
       " 'symbol': 'TKC',\n",
       " 'blockchain': 'Solana',\n",
       " 'current_price_usd': 310.0,\n",
       " 'transaction_history': [{'date': '2024-01-10',\n",
       "   'prices': {'open': 295.0, 'close': 300.0, 'high': 302.0, 'low': 294.0},\n",
       "   'volume': 22000},\n",
       "  {'date': '2024-01-09',\n",
       "   'prices': {'open': 294.0, 'close': 295.0, 'high': 296.0, 'low': 293.0},\n",
       "   'volume': 21000}],\n",
       " 'supported_chains': ['Solana', 'Fantom']}"
      ]
     },
     "execution_count": 52,
     "metadata": {},
     "output_type": "execute_result"
    }
   ],
   "source": [
    "crypto_tokens[2]"
   ]
  },
  {
   "cell_type": "markdown",
   "id": "9558f7da",
   "metadata": {},
   "source": [
    "### Task 4: Remove the transaction history for \"Token A\" on \"2024-01-09\"."
   ]
  },
  {
   "cell_type": "code",
   "execution_count": 53,
   "id": "80e6aa30",
   "metadata": {},
   "outputs": [
    {
     "data": {
      "text/plain": [
       "[{'date': '2024-01-10',\n",
       "  'prices': {'open': 98.0, 'close': 100.0, 'high': 101.0, 'low': 97.0},\n",
       "  'volume': 12000},\n",
       " {'date': '2024-01-09',\n",
       "  'prices': {'open': 97.0, 'close': 98.0, 'high': 99.0, 'low': 96.0},\n",
       "  'volume': 15000}]"
      ]
     },
     "execution_count": 53,
     "metadata": {},
     "output_type": "execute_result"
    }
   ],
   "source": [
    "crypto_tokens[0]['transaction_history']"
   ]
  },
  {
   "cell_type": "code",
   "execution_count": 54,
   "id": "36653de0",
   "metadata": {},
   "outputs": [
    {
     "data": {
      "text/plain": [
       "{'date': '2024-01-09',\n",
       " 'prices': {'open': 97.0, 'close': 98.0, 'high': 99.0, 'low': 96.0},\n",
       " 'volume': 15000}"
      ]
     },
     "execution_count": 54,
     "metadata": {},
     "output_type": "execute_result"
    }
   ],
   "source": [
    "# solution\n",
    "\n",
    "crypto_tokens[0]['transaction_history'].pop(1)"
   ]
  },
  {
   "cell_type": "code",
   "execution_count": 55,
   "id": "8255c47c",
   "metadata": {},
   "outputs": [
    {
     "data": {
      "text/plain": [
       "[{'date': '2024-01-10',\n",
       "  'prices': {'open': 98.0, 'close': 100.0, 'high': 101.0, 'low': 97.0},\n",
       "  'volume': 12000}]"
      ]
     },
     "execution_count": 55,
     "metadata": {},
     "output_type": "execute_result"
    }
   ],
   "source": [
    "crypto_tokens[0]['transaction_history']"
   ]
  },
  {
   "cell_type": "markdown",
   "id": "76654d9c",
   "metadata": {},
   "source": [
    "### Task 5: Display the closing price of \"Token B\" on \"2024-01-10\"."
   ]
  },
  {
   "cell_type": "code",
   "execution_count": 56,
   "id": "8170ee30",
   "metadata": {},
   "outputs": [
    {
     "data": {
      "text/plain": [
       "200.0"
      ]
     },
     "execution_count": 56,
     "metadata": {},
     "output_type": "execute_result"
    }
   ],
   "source": [
    "# solution\n",
    "\n",
    "crypto_tokens[1]['transaction_history'][0]['prices']['close']"
   ]
  },
  {
   "cell_type": "markdown",
   "id": "271793b8",
   "metadata": {},
   "source": [
    "### Task 6: Change the opening price of \"Token A\" on \"2024-01-10\" to 99.0."
   ]
  },
  {
   "cell_type": "code",
   "execution_count": 57,
   "id": "c296f0fb",
   "metadata": {},
   "outputs": [
    {
     "data": {
      "text/plain": [
       "{'name': 'Token A',\n",
       " 'symbol': 'TKA',\n",
       " 'blockchain': 'Ethereum',\n",
       " 'current_price_usd': 100.0,\n",
       " 'transaction_history': [{'date': '2024-01-10',\n",
       "   'prices': {'open': 98.0, 'close': 100.0, 'high': 101.0, 'low': 97.0},\n",
       "   'volume': 12000}],\n",
       " 'supported_chains': ['Ethereum', 'Polygon']}"
      ]
     },
     "execution_count": 57,
     "metadata": {},
     "output_type": "execute_result"
    }
   ],
   "source": [
    "crypto_tokens[0]"
   ]
  },
  {
   "cell_type": "code",
   "execution_count": 58,
   "id": "f7e380f6",
   "metadata": {},
   "outputs": [
    {
     "name": "stdout",
     "output_type": "stream",
     "text": [
      "{'open': 99.0, 'close': 100.0, 'high': 101.0, 'low': 97.0}\n"
     ]
    }
   ],
   "source": [
    "# solution\n",
    "\n",
    "crypto_tokens[0]['transaction_history'][0]['prices']['open'] = 99.0\n",
    "\n",
    "print(crypto_tokens[0]['transaction_history'][0]['prices'])"
   ]
  },
  {
   "cell_type": "markdown",
   "id": "4b50a15f",
   "metadata": {},
   "source": [
    "Here I'm updating a value nested deep inside the data structure.\n",
    "\n",
    "so I can’t use .update() unless I am already at the dictionary where the key exists.\n",
    "\n",
    "I'm targeting:\n",
    "\n",
    "- crypto_tokens[0] → the first token (Token A)\n",
    "\n",
    "- Inside its transaction_history list, the first element\n",
    "\n",
    "- Inside that, the prices dictionary\n",
    "\n",
    "- And finally, setting 'open' to 99.0\n",
    "\n",
    "👉 Direct assignment (=) is necessary here because:\n",
    "\n",
    "- I am not updating the top-level dictionary.\n",
    "\n",
    "- I am modifying an existing nested value, not merging in a new set of keys."
   ]
  },
  {
   "cell_type": "markdown",
   "id": "d9646f77",
   "metadata": {},
   "source": [
    "| Case                             | Method Used   | Why? |\n",
    "|----------------------------------|---------------|------|\n",
    "| Updating a **top-level** key     | `.update()`   | Clean, flexible way to set or add keys at the top level of a dictionary |\n",
    "| Updating a **nested** key        | Direct `=`    | Required when targeting a deeply nested value—`.update()` can’t reach that far |\n"
   ]
  },
  {
   "cell_type": "markdown",
   "id": "e7e1367c",
   "metadata": {},
   "source": [
    "### Task 7: Add a new transaction history entry for \"Token C\" on \"2024-01-11\"."
   ]
  },
  {
   "cell_type": "code",
   "execution_count": 59,
   "id": "d5d4152d",
   "metadata": {},
   "outputs": [
    {
     "data": {
      "text/plain": [
       "{'name': 'Token C',\n",
       " 'symbol': 'TKC',\n",
       " 'blockchain': 'Solana',\n",
       " 'current_price_usd': 310.0,\n",
       " 'transaction_history': [{'date': '2024-01-10',\n",
       "   'prices': {'open': 295.0, 'close': 300.0, 'high': 302.0, 'low': 294.0},\n",
       "   'volume': 22000},\n",
       "  {'date': '2024-01-09',\n",
       "   'prices': {'open': 294.0, 'close': 295.0, 'high': 296.0, 'low': 293.0},\n",
       "   'volume': 21000}],\n",
       " 'supported_chains': ['Solana', 'Fantom']}"
      ]
     },
     "execution_count": 59,
     "metadata": {},
     "output_type": "execute_result"
    }
   ],
   "source": [
    "crypto_tokens[2]"
   ]
  },
  {
   "cell_type": "code",
   "execution_count": 60,
   "id": "348e8b9f",
   "metadata": {},
   "outputs": [
    {
     "name": "stdout",
     "output_type": "stream",
     "text": [
      "{'name': 'Token C', 'symbol': 'TKC', 'blockchain': 'Solana', 'current_price_usd': 310.0, 'transaction_history': [{'date': '2024-01-10', 'prices': {'open': 295.0, 'close': 300.0, 'high': 302.0, 'low': 294.0}, 'volume': 22000}, {'date': '2024-01-09', 'prices': {'open': 294.0, 'close': 295.0, 'high': 296.0, 'low': 293.0}, 'volume': 21000}, {'date': '2024-01-11', 'prices': {'open': 305.0, 'close': 310.0, 'high': 312.0, 'low': 304.0}, 'volume': 25000}], 'supported_chains': ['Solana', 'Fantom']}\n"
     ]
    }
   ],
   "source": [
    "# solution\n",
    "\n",
    "crypto_tokens[2]['transaction_history'].append(\n",
    "    {\n",
    "        \"date\": \"2024-01-11\",\n",
    "        \"prices\": {\n",
    "            \"open\": 305.0,\n",
    "            \"close\": 310.0,\n",
    "            \"high\": 312.0,\n",
    "            \"low\": 304.0\n",
    "        },\n",
    "        \"volume\": 25000\n",
    "    }\n",
    ")\n",
    "\n",
    "print(crypto_tokens[2])"
   ]
  },
  {
   "cell_type": "code",
   "execution_count": 61,
   "id": "cee715fc",
   "metadata": {},
   "outputs": [
    {
     "data": {
      "text/plain": [
       "{'name': 'Token C',\n",
       " 'symbol': 'TKC',\n",
       " 'blockchain': 'Solana',\n",
       " 'current_price_usd': 310.0,\n",
       " 'transaction_history': [{'date': '2024-01-10',\n",
       "   'prices': {'open': 295.0, 'close': 300.0, 'high': 302.0, 'low': 294.0},\n",
       "   'volume': 22000},\n",
       "  {'date': '2024-01-09',\n",
       "   'prices': {'open': 294.0, 'close': 295.0, 'high': 296.0, 'low': 293.0},\n",
       "   'volume': 21000},\n",
       "  {'date': '2024-01-11',\n",
       "   'prices': {'open': 305.0, 'close': 310.0, 'high': 312.0, 'low': 304.0},\n",
       "   'volume': 25000}],\n",
       " 'supported_chains': ['Solana', 'Fantom']}"
      ]
     },
     "execution_count": 61,
     "metadata": {},
     "output_type": "execute_result"
    }
   ],
   "source": [
    "crypto_tokens[2]"
   ]
  },
  {
   "cell_type": "code",
   "execution_count": 62,
   "id": "d80110fd",
   "metadata": {},
   "outputs": [],
   "source": [
    "crypto_tokens[2]['transaction_history'].sort(key=lambda x: x['date'])  # Sorts by date in ascending order\n",
    "\n",
    "crypto_tokens[2]['transaction_history'].sort(key=lambda x: x['date'], reverse=True) # Sorts by date in descending order\n"
   ]
  },
  {
   "cell_type": "code",
   "execution_count": 63,
   "id": "9ef6b0cb",
   "metadata": {},
   "outputs": [
    {
     "data": {
      "text/plain": [
       "{'name': 'Token C',\n",
       " 'symbol': 'TKC',\n",
       " 'blockchain': 'Solana',\n",
       " 'current_price_usd': 310.0,\n",
       " 'transaction_history': [{'date': '2024-01-11',\n",
       "   'prices': {'open': 305.0, 'close': 310.0, 'high': 312.0, 'low': 304.0},\n",
       "   'volume': 25000},\n",
       "  {'date': '2024-01-10',\n",
       "   'prices': {'open': 295.0, 'close': 300.0, 'high': 302.0, 'low': 294.0},\n",
       "   'volume': 22000},\n",
       "  {'date': '2024-01-09',\n",
       "   'prices': {'open': 294.0, 'close': 295.0, 'high': 296.0, 'low': 293.0},\n",
       "   'volume': 21000}],\n",
       " 'supported_chains': ['Solana', 'Fantom']}"
      ]
     },
     "execution_count": 63,
     "metadata": {},
     "output_type": "execute_result"
    }
   ],
   "source": [
    "crypto_tokens[2]"
   ]
  },
  {
   "cell_type": "markdown",
   "id": "dfd6b9c0",
   "metadata": {},
   "source": [
    "### Task 8: Remove \"Avalanche\" from the supported chains of \"Token B\"."
   ]
  },
  {
   "cell_type": "code",
   "execution_count": 64,
   "id": "feaed1c3",
   "metadata": {},
   "outputs": [
    {
     "data": {
      "text/plain": [
       "{'name': 'Token B',\n",
       " 'symbol': 'TKB',\n",
       " 'blockchain': 'Binance Smart Chain',\n",
       " 'current_price_usd': 200.0,\n",
       " 'transaction_history': [{'date': '2024-01-10',\n",
       "   'prices': {'open': 198.0, 'close': 200.0, 'high': 202.0, 'low': 196.0},\n",
       "   'volume': 18000},\n",
       "  {'date': '2024-01-09',\n",
       "   'prices': {'open': 196.0, 'close': 198.0, 'high': 199.0, 'low': 195.0},\n",
       "   'volume': 17000}],\n",
       " 'supported_chains': ['Binance Smart Chain', 'Avalanche']}"
      ]
     },
     "execution_count": 64,
     "metadata": {},
     "output_type": "execute_result"
    }
   ],
   "source": [
    "crypto_tokens[1]"
   ]
  },
  {
   "cell_type": "code",
   "execution_count": 65,
   "id": "b6491893",
   "metadata": {},
   "outputs": [
    {
     "data": {
      "text/plain": [
       "'Avalanche'"
      ]
     },
     "execution_count": 65,
     "metadata": {},
     "output_type": "execute_result"
    }
   ],
   "source": [
    "# solution\n",
    "\n",
    "crypto_tokens[1]['supported_chains'].pop(1)"
   ]
  },
  {
   "cell_type": "code",
   "execution_count": 66,
   "id": "3e7041c7",
   "metadata": {},
   "outputs": [
    {
     "data": {
      "text/plain": [
       "{'name': 'Token B',\n",
       " 'symbol': 'TKB',\n",
       " 'blockchain': 'Binance Smart Chain',\n",
       " 'current_price_usd': 200.0,\n",
       " 'transaction_history': [{'date': '2024-01-10',\n",
       "   'prices': {'open': 198.0, 'close': 200.0, 'high': 202.0, 'low': 196.0},\n",
       "   'volume': 18000},\n",
       "  {'date': '2024-01-09',\n",
       "   'prices': {'open': 196.0, 'close': 198.0, 'high': 199.0, 'low': 195.0},\n",
       "   'volume': 17000}],\n",
       " 'supported_chains': ['Binance Smart Chain']}"
      ]
     },
     "execution_count": 66,
     "metadata": {},
     "output_type": "execute_result"
    }
   ],
   "source": [
    "crypto_tokens[1]"
   ]
  },
  {
   "cell_type": "markdown",
   "id": "cdd4ecf0",
   "metadata": {},
   "source": [
    "---"
   ]
  },
  {
   "cell_type": "markdown",
   "id": "012d426b",
   "metadata": {},
   "source": [
    "## Problem 2: Crypto Investment Portfolio\n",
    "\n",
    "This data structure represents a crypto investment portfolio, including various assets like tokens, stablecoins, and NFTs, along with their holdings and performance metrics.\n",
    "\n",
    "\n",
    "```python\n",
    "crypto_portfolio = {\n",
    "    \"investor_name\": \"Jane Doe\",\n",
    "    \"portfolio_id\": \"JD1234\",\n",
    "    \"assets\": {\n",
    "        \"tokens\": [\n",
    "            {\n",
    "                \"ticker\": \"ETH\",\n",
    "                \"quantity\": 50,\n",
    "                \"purchase_price\": 2000.00,\n",
    "                \"current_price\": 2100.00\n",
    "            },\n",
    "            {\n",
    "                \"ticker\": \"BTC\",\n",
    "                \"quantity\": 30,\n",
    "                \"purchase_price\": 40000.00,\n",
    "                \"current_price\": 41000.00\n",
    "            }\n",
    "        ],\n",
    "        \"stablecoins\": [\n",
    "            {\n",
    "                \"identifier\": \"USDC\",\n",
    "                \"quantity\": 10000,\n",
    "                \"purchase_price\": 1.00,\n",
    "                \"current_price\": 1.00,\n",
    "                \"peg_currency\": \"USD\"\n",
    "            }\n",
    "        ],\n",
    "        \"nfts\": [\n",
    "            {\n",
    "                \"name\": \"CryptoArt 123\",\n",
    "                \"quantity\": 1,\n",
    "                \"purchase_price\": 5000.00,\n",
    "                \"current_price\": 5500.00\n",
    "            }\n",
    "        ]\n",
    "    },\n",
    "    \"cash_holdings_usd\": 10000.00,\n",
    "    \"investment_goals\": {\"retirement\": 2035, \"education\": 2025}\n",
    "}\n",
    "```\n",
    "\n",
    "\n",
    "Q1: Read Data  \n",
    "\n",
    "Task: Display the current price of the NFT \"CryptoArt 123\".\n",
    "\n",
    "\n",
    "Q2: Write Data  \n",
    "\n",
    "Task: Add a new token with ticker \"ADA\", 1000 units, a purchase price of 1.50, and a current price of 1.60 to the tokens in the assets.\n",
    "\n",
    "\n",
    "Q3: Update Data \n",
    "\n",
    "Task: Update the quantity of \"ETH\" token to 60.\n",
    "\n",
    "\n",
    "Q4: Delete Data \n",
    "\n",
    "Task: Remove the stablecoin with identifier \"USDC\" from the stablecoins in assets.\n",
    "\n",
    "\n",
    "Q5: Read Nested Data\n",
    "\n",
    "Task: Display the peg currency of the stablecoin in the portfolio.\n",
    "\n",
    "\n",
    "Q6: Update Nested Data  \n",
    "\n",
    "Task: Change the current price of \"BTC\" token to 41500.00.\n",
    "\n",
    "\n",
    "Q7: Add Nested Data  \n",
    "\n",
    "Task: Add a new goal \"vacation\" set for the year 2028 in the investment goals.\n",
    "\n",
    "\n",
    "Q8: Delete an Item from a List Inside a Dictionary  \n",
    "\n",
    "Task: Remove the NFT \"CryptoArt 123\" from the portfolio."
   ]
  },
  {
   "cell_type": "code",
   "execution_count": 67,
   "id": "26bb3489",
   "metadata": {},
   "outputs": [],
   "source": [
    "crypto_portfolio = {\n",
    "    \"investor_name\": \"Jane Doe\",\n",
    "    \"portfolio_id\": \"JD1234\",\n",
    "    \"assets\": {\n",
    "        \"tokens\": [\n",
    "            {\n",
    "                \"ticker\": \"ETH\",\n",
    "                \"quantity\": 50,\n",
    "                \"purchase_price\": 2000.00,\n",
    "                \"current_price\": 2100.00\n",
    "            },\n",
    "            {\n",
    "                \"ticker\": \"BTC\",\n",
    "                \"quantity\": 30,\n",
    "                \"purchase_price\": 40000.00,\n",
    "                \"current_price\": 41000.00\n",
    "            }\n",
    "        ],\n",
    "        \"stablecoins\": [\n",
    "            {\n",
    "                \"identifier\": \"USDC\",\n",
    "                \"quantity\": 10000,\n",
    "                \"purchase_price\": 1.00,\n",
    "                \"current_price\": 1.00,\n",
    "                \"peg_currency\": \"USD\"\n",
    "            }\n",
    "        ],\n",
    "        \"nfts\": [\n",
    "            {\n",
    "                \"name\": \"CryptoArt 123\",\n",
    "                \"quantity\": 1,\n",
    "                \"purchase_price\": 5000.00,\n",
    "                \"current_price\": 5500.00\n",
    "            }\n",
    "        ]\n",
    "    },\n",
    "    \"cash_holdings_usd\": 10000.00,\n",
    "    \"investment_goals\": {\"retirement\": 2035, \"education\": 2025}\n",
    "}"
   ]
  },
  {
   "cell_type": "markdown",
   "id": "b8012c1a",
   "metadata": {},
   "source": [
    "### Task 1: Display the current price of the NFT \"CryptoArt 123\"."
   ]
  },
  {
   "cell_type": "code",
   "execution_count": 68,
   "id": "297f36bc",
   "metadata": {},
   "outputs": [
    {
     "data": {
      "text/plain": [
       "5500.0"
      ]
     },
     "execution_count": 68,
     "metadata": {},
     "output_type": "execute_result"
    }
   ],
   "source": [
    "# solution\n",
    "\n",
    "crypto_portfolio['assets']['nfts'][0]['current_price']"
   ]
  },
  {
   "cell_type": "markdown",
   "id": "98f96b3e",
   "metadata": {},
   "source": [
    "### Task 2: Add a new token with ticker \"ADA\", 1000 units, a purchase price of 1.50, and a current price of 1.60 to the tokens in the assets."
   ]
  },
  {
   "cell_type": "code",
   "execution_count": 69,
   "id": "fd64f9cd",
   "metadata": {},
   "outputs": [
    {
     "name": "stdout",
     "output_type": "stream",
     "text": [
      "[{'ticker': 'ETH', 'quantity': 50, 'purchase_price': 2000.0, 'current_price': 2100.0}, {'ticker': 'BTC', 'quantity': 30, 'purchase_price': 40000.0, 'current_price': 41000.0}, {'ticker': 'ADA', 'quantity': 1000, 'purchase_price': 1.5, 'current_price': 1.6}]\n"
     ]
    }
   ],
   "source": [
    "# solution\n",
    "\n",
    "crypto_portfolio['assets']['tokens'].append(\n",
    "    {\n",
    "        \"ticker\": \"ADA\",\n",
    "        \"quantity\": 1000,\n",
    "        \"purchase_price\": 1.50,\n",
    "        \"current_price\": 1.60\n",
    "    }\n",
    ")\n",
    "\n",
    "print(crypto_portfolio['assets']['tokens'])"
   ]
  },
  {
   "cell_type": "markdown",
   "id": "5101996c",
   "metadata": {},
   "source": [
    "### Task 3: Update the quantity of \"ETH\" token to 60."
   ]
  },
  {
   "cell_type": "code",
   "execution_count": 70,
   "id": "3bd94d24",
   "metadata": {},
   "outputs": [
    {
     "data": {
      "text/plain": [
       "[{'ticker': 'ETH',\n",
       "  'quantity': 50,\n",
       "  'purchase_price': 2000.0,\n",
       "  'current_price': 2100.0},\n",
       " {'ticker': 'BTC',\n",
       "  'quantity': 30,\n",
       "  'purchase_price': 40000.0,\n",
       "  'current_price': 41000.0},\n",
       " {'ticker': 'ADA',\n",
       "  'quantity': 1000,\n",
       "  'purchase_price': 1.5,\n",
       "  'current_price': 1.6}]"
      ]
     },
     "execution_count": 70,
     "metadata": {},
     "output_type": "execute_result"
    }
   ],
   "source": [
    "crypto_portfolio['assets']['tokens']"
   ]
  },
  {
   "cell_type": "code",
   "execution_count": 71,
   "id": "39bc4803",
   "metadata": {},
   "outputs": [
    {
     "data": {
      "text/plain": [
       "[{'ticker': 'ETH',\n",
       "  'quantity': 60,\n",
       "  'purchase_price': 2000.0,\n",
       "  'current_price': 2100.0},\n",
       " {'ticker': 'BTC',\n",
       "  'quantity': 30,\n",
       "  'purchase_price': 40000.0,\n",
       "  'current_price': 41000.0},\n",
       " {'ticker': 'ADA',\n",
       "  'quantity': 1000,\n",
       "  'purchase_price': 1.5,\n",
       "  'current_price': 1.6}]"
      ]
     },
     "execution_count": 71,
     "metadata": {},
     "output_type": "execute_result"
    }
   ],
   "source": [
    "# solution\n",
    "\n",
    "crypto_portfolio['assets']['tokens'][0]['quantity'] = 60            # i could also use .update() here.          .update also works only on python dictionaries, not lists. \n",
    "\n",
    "crypto_portfolio['assets']['tokens']"
   ]
  },
  {
   "cell_type": "markdown",
   "id": "699a59f3",
   "metadata": {},
   "source": [
    "### Task 4: Remove the stablecoin with identifier \"USDC\" from the stablecoins in assets."
   ]
  },
  {
   "cell_type": "code",
   "execution_count": 72,
   "id": "1c4b02d5",
   "metadata": {},
   "outputs": [
    {
     "data": {
      "text/plain": [
       "[{'identifier': 'USDC',\n",
       "  'quantity': 10000,\n",
       "  'purchase_price': 1.0,\n",
       "  'current_price': 1.0,\n",
       "  'peg_currency': 'USD'}]"
      ]
     },
     "execution_count": 72,
     "metadata": {},
     "output_type": "execute_result"
    }
   ],
   "source": [
    "crypto_portfolio['assets']['stablecoins']"
   ]
  },
  {
   "cell_type": "code",
   "execution_count": 73,
   "id": "5c04d948",
   "metadata": {},
   "outputs": [
    {
     "name": "stdout",
     "output_type": "stream",
     "text": [
      "[{'quantity': 10000, 'purchase_price': 1.0, 'current_price': 1.0, 'peg_currency': 'USD'}]\n"
     ]
    }
   ],
   "source": [
    "# solution\n",
    "\n",
    "crypto_portfolio['assets']['stablecoins'][0].pop('identifier')\n",
    "\n",
    "print(crypto_portfolio['assets']['stablecoins'])"
   ]
  },
  {
   "cell_type": "code",
   "execution_count": 74,
   "id": "d4f39862",
   "metadata": {},
   "outputs": [
    {
     "data": {
      "text/plain": [
       "{'tokens': [{'ticker': 'ETH',\n",
       "   'quantity': 60,\n",
       "   'purchase_price': 2000.0,\n",
       "   'current_price': 2100.0},\n",
       "  {'ticker': 'BTC',\n",
       "   'quantity': 30,\n",
       "   'purchase_price': 40000.0,\n",
       "   'current_price': 41000.0},\n",
       "  {'ticker': 'ADA',\n",
       "   'quantity': 1000,\n",
       "   'purchase_price': 1.5,\n",
       "   'current_price': 1.6}],\n",
       " 'stablecoins': [{'quantity': 10000,\n",
       "   'purchase_price': 1.0,\n",
       "   'current_price': 1.0,\n",
       "   'peg_currency': 'USD'}],\n",
       " 'nfts': [{'name': 'CryptoArt 123',\n",
       "   'quantity': 1,\n",
       "   'purchase_price': 5000.0,\n",
       "   'current_price': 5500.0}]}"
      ]
     },
     "execution_count": 74,
     "metadata": {},
     "output_type": "execute_result"
    }
   ],
   "source": [
    "crypto_portfolio['assets']"
   ]
  },
  {
   "cell_type": "markdown",
   "id": "b516cd08",
   "metadata": {},
   "source": [
    "### Task 5: Display the peg currency of the stablecoin in the portfolio."
   ]
  },
  {
   "cell_type": "code",
   "execution_count": 79,
   "id": "42568fb9",
   "metadata": {},
   "outputs": [
    {
     "data": {
      "text/plain": [
       "'USD'"
      ]
     },
     "execution_count": 79,
     "metadata": {},
     "output_type": "execute_result"
    }
   ],
   "source": [
    "# solution\n",
    "\n",
    "crypto_portfolio['assets']['stablecoins'][0]['peg_currency']"
   ]
  },
  {
   "cell_type": "markdown",
   "id": "44636420",
   "metadata": {},
   "source": [
    "### Task 6: Change the current price of \"BTC\" token to 41500.00."
   ]
  },
  {
   "cell_type": "code",
   "execution_count": 83,
   "id": "d08af430",
   "metadata": {},
   "outputs": [
    {
     "name": "stdout",
     "output_type": "stream",
     "text": [
      "{'ticker': 'BTC', 'quantity': 30, 'purchase_price': 40000.0, 'current_price': 41500.0}\n"
     ]
    }
   ],
   "source": [
    "# solution\n",
    "\n",
    "crypto_portfolio['assets']['tokens'][1]['current_price'] = 41500.00\n",
    "\n",
    "print(crypto_portfolio['assets']['tokens'][1])"
   ]
  },
  {
   "cell_type": "markdown",
   "id": "1a66cae0",
   "metadata": {},
   "source": [
    "### Task 7: Add a new goal \"vacation\" set for the year 2028 in the investment goals."
   ]
  },
  {
   "cell_type": "code",
   "execution_count": 84,
   "id": "93cbce25",
   "metadata": {},
   "outputs": [
    {
     "data": {
      "text/plain": [
       "{'investor_name': 'Jane Doe',\n",
       " 'portfolio_id': 'JD1234',\n",
       " 'assets': {'tokens': [{'ticker': 'ETH',\n",
       "    'quantity': 60,\n",
       "    'purchase_price': 2000.0,\n",
       "    'current_price': 2100.0},\n",
       "   {'ticker': 'BTC',\n",
       "    'quantity': 30,\n",
       "    'purchase_price': 40000.0,\n",
       "    'current_price': 41500.0},\n",
       "   {'ticker': 'ADA',\n",
       "    'quantity': 1000,\n",
       "    'purchase_price': 1.5,\n",
       "    'current_price': 1.6}],\n",
       "  'stablecoins': [{'quantity': 10000,\n",
       "    'purchase_price': 1.0,\n",
       "    'current_price': 1.0,\n",
       "    'peg_currency': 'USD'}],\n",
       "  'nfts': [{'name': 'CryptoArt 123',\n",
       "    'quantity': 1,\n",
       "    'purchase_price': 5000.0,\n",
       "    'current_price': 5500.0}]},\n",
       " 'cash_holdings_usd': 10000.0,\n",
       " 'investment_goals': {'retirement': 2035, 'education': 2025}}"
      ]
     },
     "execution_count": 84,
     "metadata": {},
     "output_type": "execute_result"
    }
   ],
   "source": [
    "crypto_portfolio"
   ]
  },
  {
   "cell_type": "code",
   "execution_count": null,
   "id": "27d0b68b",
   "metadata": {},
   "outputs": [
    {
     "name": "stdout",
     "output_type": "stream",
     "text": [
      "{'retirement': 2035, 'education': 2025, 'vacation': 2028}\n"
     ]
    }
   ],
   "source": [
    "# solution\n",
    "\n",
    "crypto_portfolio['investment_goals'].update({'vacation': 2028})\n",
    "\n",
    "print(crypto_portfolio['investment_goals'])"
   ]
  },
  {
   "cell_type": "markdown",
   "id": "4f003f9b",
   "metadata": {},
   "source": [
    "### Task 8: Remove the NFT \"CryptoArt 123\" from the portfolio."
   ]
  },
  {
   "cell_type": "code",
   "execution_count": 87,
   "id": "fd1f7eee",
   "metadata": {},
   "outputs": [
    {
     "data": {
      "text/plain": [
       "{'investor_name': 'Jane Doe',\n",
       " 'portfolio_id': 'JD1234',\n",
       " 'assets': {'tokens': [{'ticker': 'ETH',\n",
       "    'quantity': 60,\n",
       "    'purchase_price': 2000.0,\n",
       "    'current_price': 2100.0},\n",
       "   {'ticker': 'BTC',\n",
       "    'quantity': 30,\n",
       "    'purchase_price': 40000.0,\n",
       "    'current_price': 41500.0},\n",
       "   {'ticker': 'ADA',\n",
       "    'quantity': 1000,\n",
       "    'purchase_price': 1.5,\n",
       "    'current_price': 1.6}],\n",
       "  'stablecoins': [{'quantity': 10000,\n",
       "    'purchase_price': 1.0,\n",
       "    'current_price': 1.0,\n",
       "    'peg_currency': 'USD'}],\n",
       "  'nfts': [{'name': 'CryptoArt 123',\n",
       "    'quantity': 1,\n",
       "    'purchase_price': 5000.0,\n",
       "    'current_price': 5500.0}]},\n",
       " 'cash_holdings_usd': 10000.0,\n",
       " 'investment_goals': {'retirement': 2035, 'education': 2025, 'vacation': 2028}}"
      ]
     },
     "execution_count": 87,
     "metadata": {},
     "output_type": "execute_result"
    }
   ],
   "source": [
    "crypto_portfolio"
   ]
  },
  {
   "cell_type": "code",
   "execution_count": 91,
   "id": "4826419b",
   "metadata": {},
   "outputs": [
    {
     "data": {
      "text/plain": [
       "{'investor_name': 'Jane Doe',\n",
       " 'portfolio_id': 'JD1234',\n",
       " 'assets': {'tokens': [{'ticker': 'ETH',\n",
       "    'quantity': 60,\n",
       "    'purchase_price': 2000.0,\n",
       "    'current_price': 2100.0},\n",
       "   {'ticker': 'BTC',\n",
       "    'quantity': 30,\n",
       "    'purchase_price': 40000.0,\n",
       "    'current_price': 41500.0},\n",
       "   {'ticker': 'ADA',\n",
       "    'quantity': 1000,\n",
       "    'purchase_price': 1.5,\n",
       "    'current_price': 1.6}],\n",
       "  'stablecoins': [{'quantity': 10000,\n",
       "    'purchase_price': 1.0,\n",
       "    'current_price': 1.0,\n",
       "    'peg_currency': 'USD'}],\n",
       "  'nfts': []},\n",
       " 'cash_holdings_usd': 10000.0,\n",
       " 'investment_goals': {'retirement': 2035, 'education': 2025, 'vacation': 2028}}"
      ]
     },
     "execution_count": 91,
     "metadata": {},
     "output_type": "execute_result"
    }
   ],
   "source": [
    "# solution\n",
    "\n",
    "crypto_portfolio['assets']['nfts'].pop(0)\n",
    "\n",
    "crypto_portfolio"
   ]
  },
  {
   "cell_type": "markdown",
   "id": "b3d114ad",
   "metadata": {},
   "source": [
    "---"
   ]
  },
  {
   "cell_type": "markdown",
   "id": "0614450c",
   "metadata": {},
   "source": [
    "# Problem 3: Blockchain Market Analysis\n",
    "\n",
    "This data structure represents an analysis of blockchain ecosystems, including protocols and their token performance.\n",
    "\n",
    "```python\n",
    "blockchain_analysis = {\n",
    "    \"ecosystems\": {\n",
    "        \"DeFi\": {\n",
    "            \"protocols\": [\n",
    "                {\"name\": \"Protocol A\", \"ticker\": \"PDA\", \"price_change\": 5.2},\n",
    "                {\"name\": \"Protocol B\", \"ticker\": \"PDB\", \"price_change\": -3.1}\n",
    "            ]\n",
    "        },\n",
    "        \"NFTs\": {\n",
    "            \"protocols\": [\n",
    "                {\"name\": \"NFT Market A\", \"ticker\": \"NMA\", \"price_change\": 4.0},\n",
    "                {\"name\": \"NFT Market B\", \"ticker\": \"NMB\", \"price_change\": 2.5}\n",
    "            ]\n",
    "        }\n",
    "    },\n",
    "    \"market_performance\": {\n",
    "        \"Crypto Index\": {\"change\": 1.5},\n",
    "        \"DeFi Index\": {\"change\": 2.3},\n",
    "        \"NFT Index\": {\"change\": -1.2}\n",
    "    },\n",
    "    \"notable_events\": [\n",
    "        (\"2024-01-10\", \"Network Upgrade\", \"Ethereum completes sharding upgrade\"),\n",
    "        (\"2024-01-15\", \"Token Launch\", \"Protocol A launches governance token\")\n",
    "    ]\n",
    "}\n",
    "```\n",
    "\n",
    "Q1: Read Data\n",
    "\n",
    "Task: Display the price change of \"NFT Market B\".\n",
    "\n",
    "\n",
    "Q2: Write Data  \n",
    "\n",
    "Task: Add a new ecosystem \"Layer 2\" with one protocol \"Layer 2 Protocol A\" having a ticker \"L2A\" and a price change of -2.0.\n",
    "\n",
    "\n",
    "Q3: Update Data  \n",
    "\n",
    "Task: Update the price change of \"Protocol A\" to 6.0.\n",
    "\n",
    "\n",
    "Q4: Delete Data  \n",
    "\n",
    "Task: Remove the \"NFT Index\" from market_performance.\n",
    "\n",
    "\n",
    "Q5: Read Nested Data  \n",
    "\n",
    "Task: Display the change in \"DeFi Index\" performance.\n",
    "\n",
    "\n",
    "Q6: Update Nested Data  \n",
    "\n",
    "Task: Change the name of \"NFT Market A\" to \"NFT Market Alpha\".\n",
    "\n",
    "\n",
    "Q7: Add Nested Data  \n",
    "\n",
    "Task: Add a new notable event on \"2024-01-20\" stating \"Partnership\", with the description \"Protocol B partners with major blockchain\".\n",
    "\n",
    "\n",
    "Q8: Delete an Item from a List Inside a Dictionary  \n",
    "\n",
    "Task: Remove the first notable event from the list."
   ]
  },
  {
   "cell_type": "code",
   "execution_count": null,
   "id": "76c5cd44",
   "metadata": {},
   "outputs": [],
   "source": []
  }
 ],
 "metadata": {
  "kernelspec": {
   "display_name": "python_problem1",
   "language": "python",
   "name": "python3"
  },
  "language_info": {
   "codemirror_mode": {
    "name": "ipython",
    "version": 3
   },
   "file_extension": ".py",
   "mimetype": "text/x-python",
   "name": "python",
   "nbconvert_exporter": "python",
   "pygments_lexer": "ipython3",
   "version": "3.10.11"
  }
 },
 "nbformat": 4,
 "nbformat_minor": 5
}
