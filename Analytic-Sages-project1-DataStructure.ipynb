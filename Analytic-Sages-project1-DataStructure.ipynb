{
 "cells": [
  {
   "cell_type": "markdown",
   "id": "c61b7242",
   "metadata": {},
   "source": [
    "# **Python problems on Datastructure**\n",
    "---\n",
    "\n",
    "## **Problem 1: Cryptocurrency Token Data**  \n",
    "This data structure represents information about different cryptocurrency tokens listed on a decentralized exchange (DEX).\n",
    "\n",
    "\n",
    "```python\n",
    "crypto_tokens = [\n",
    "    {\n",
    "        \"name\": \"Token A\",\n",
    "        \"symbol\": \"TKA\",\n",
    "        \"blockchain\": \"Ethereum\",\n",
    "        \"current_price_usd\": 100.0,\n",
    "        \"transaction_history\": [\n",
    "            {\n",
    "                \"date\": \"2024-01-10\",\n",
    "                \"prices\": {\n",
    "                    \"open\": 98.0,\n",
    "                    \"close\": 100.0,\n",
    "                    \"high\": 101.0,\n",
    "                    \"low\": 97.0\n",
    "                },\n",
    "                \"volume\": 12000\n",
    "            },\n",
    "            {\n",
    "                \"date\": \"2024-01-09\",\n",
    "                \"prices\": {\n",
    "                    \"open\": 97.0,\n",
    "                    \"close\": 98.0,\n",
    "                    \"high\": 99.0,\n",
    "                    \"low\": 96.0\n",
    "                },\n",
    "                \"volume\": 15000\n",
    "            }\n",
    "        ],\n",
    "        \"supported_chains\": [\"Ethereum\", \"Polygon\"]\n",
    "    },\n",
    "    {\n",
    "        \"name\": \"Token B\",\n",
    "        \"symbol\": \"TKB\",\n",
    "        \"blockchain\": \"Binance Smart Chain\",\n",
    "        \"current_price_usd\": 200.0,\n",
    "        \"transaction_history\": [\n",
    "            {\n",
    "                \"date\": \"2024-01-10\",\n",
    "                \"prices\": {\n",
    "                    \"open\": 198.0,\n",
    "                    \"close\": 200.0,\n",
    "                    \"high\": 202.0,\n",
    "                    \"low\": 196.0\n",
    "                },\n",
    "                \"volume\": 18000\n",
    "            },\n",
    "            {\n",
    "                \"date\": \"2024-01-09\",\n",
    "                \"prices\": {\n",
    "                    \"open\": 196.0,\n",
    "                    \"close\": 198.0,\n",
    "                    \"high\": 199.0,\n",
    "                    \"low\": 195.0\n",
    "                },\n",
    "                \"volume\": 17000\n",
    "            }\n",
    "        ],\n",
    "        \"supported_chains\": [\"Binance Smart Chain\", \"Avalanche\"]\n",
    "    },\n",
    "    {\n",
    "        \"name\": \"Token C\",\n",
    "        \"symbol\": \"TKC\",\n",
    "        \"blockchain\": \"Solana\",\n",
    "        \"current_price_usd\": 300.0,\n",
    "        \"transaction_history\": [\n",
    "            {\n",
    "                \"date\": \"2024-01-10\",\n",
    "                \"prices\": {\n",
    "                    \"open\": 295.0,\n",
    "                    \"close\": 300.0,\n",
    "                    \"high\": 302.0,\n",
    "                    \"low\": 294.0\n",
    "                },\n",
    "                \"volume\": 22000\n",
    "            },\n",
    "            {\n",
    "                \"date\": \"2024-01-09\",\n",
    "                \"prices\": {\n",
    "                    \"open\": 294.0,\n",
    "                    \"close\": 295.0,\n",
    "                    \"high\": 296.0,\n",
    "                    \"low\": 293.0\n",
    "                },\n",
    "                \"volume\": 21000\n",
    "            }\n",
    "        ],\n",
    "        \"supported_chains\": [\"Solana\", \"Fantom\"]\n",
    "    }\n",
    "]\n",
    "```\n",
    "\n",
    "\n",
    "\n",
    "Q1: Read Data \n",
    "\n",
    "Task: Display the current price of \"Token B\".\n",
    "\n",
    "\n",
    "Q2: Write Data  \n",
    "\n",
    "Task: Add a new token \"Token D\" with some initial data to the `crypto_tokens` list.\n",
    "\n",
    "\n",
    "Q3: Update Data  \n",
    "\n",
    "Task: Update the current price of \"Token C\" to 310.0.\n",
    "\n",
    "\n",
    "Q4: Delete Data  \n",
    "\n",
    "Task: Remove the transaction history for \"Token A\" on \"2024-01-09\".\n",
    "\n",
    "\n",
    "Q5: Read Nested Data  \n",
    "\n",
    "Task: Display the closing price of \"Token B\" on \"2024-01-10\".\n",
    "\n",
    "\n",
    "Q6: Update Nested Data  \n",
    "\n",
    "Task: Change the opening price of \"Token A\" on \"2024-01-10\" to 99.0.\n",
    "\n",
    "\n",
    "Q7: Add Nested Data \n",
    "\n",
    "Task: Add a new transaction history entry for \"Token C\" on \"2024-01-11\".\n",
    "\n",
    "\n",
    "Q8: Delete an Item from a List Inside a Dictionary  \n",
    "\n",
    "Task: Remove \"Avalanche\" from the supported chains of \"Token B\"."
   ]
  },
  {
   "cell_type": "code",
   "execution_count": 72,
   "id": "617a46f2",
   "metadata": {},
   "outputs": [],
   "source": [
    "crypto_tokens = [\n",
    "    {\n",
    "        \"name\": \"Token A\",\n",
    "        \"symbol\": \"TKA\",\n",
    "        \"blockchain\": \"Ethereum\",\n",
    "        \"current_price_usd\": 100.0,\n",
    "        \"transaction_history\": [\n",
    "            {\n",
    "                \"date\": \"2024-01-10\",\n",
    "                \"prices\": {\n",
    "                    \"open\": 98.0,\n",
    "                    \"close\": 100.0,\n",
    "                    \"high\": 101.0,\n",
    "                    \"low\": 97.0\n",
    "                },\n",
    "                \"volume\": 12000\n",
    "            },\n",
    "            {\n",
    "                \"date\": \"2024-01-09\",\n",
    "                \"prices\": {\n",
    "                    \"open\": 97.0,\n",
    "                    \"close\": 98.0,\n",
    "                    \"high\": 99.0,\n",
    "                    \"low\": 96.0\n",
    "                },\n",
    "                \"volume\": 15000\n",
    "            }\n",
    "        ],\n",
    "        \"supported_chains\": [\"Ethereum\", \"Polygon\"]\n",
    "    },\n",
    "    {\n",
    "        \"name\": \"Token B\",\n",
    "        \"symbol\": \"TKB\",\n",
    "        \"blockchain\": \"Binance Smart Chain\",\n",
    "        \"current_price_usd\": 200.0,\n",
    "        \"transaction_history\": [\n",
    "            {\n",
    "                \"date\": \"2024-01-10\",\n",
    "                \"prices\": {\n",
    "                    \"open\": 198.0,\n",
    "                    \"close\": 200.0,\n",
    "                    \"high\": 202.0,\n",
    "                    \"low\": 196.0\n",
    "                },\n",
    "                \"volume\": 18000\n",
    "            },\n",
    "            {\n",
    "                \"date\": \"2024-01-09\",\n",
    "                \"prices\": {\n",
    "                    \"open\": 196.0,\n",
    "                    \"close\": 198.0,\n",
    "                    \"high\": 199.0,\n",
    "                    \"low\": 195.0\n",
    "                },\n",
    "                \"volume\": 17000\n",
    "            }\n",
    "        ],\n",
    "        \"supported_chains\": [\"Binance Smart Chain\", \"Avalanche\"]\n",
    "    },\n",
    "    {\n",
    "        \"name\": \"Token C\",\n",
    "        \"symbol\": \"TKC\",\n",
    "        \"blockchain\": \"Solana\",\n",
    "        \"current_price_usd\": 300.0,\n",
    "        \"transaction_history\": [\n",
    "            {\n",
    "                \"date\": \"2024-01-10\",\n",
    "                \"prices\": {\n",
    "                    \"open\": 295.0,\n",
    "                    \"close\": 300.0,\n",
    "                    \"high\": 302.0,\n",
    "                    \"low\": 294.0\n",
    "                },\n",
    "                \"volume\": 22000\n",
    "            },\n",
    "            {\n",
    "                \"date\": \"2024-01-09\",\n",
    "                \"prices\": {\n",
    "                    \"open\": 294.0,\n",
    "                    \"close\": 295.0,\n",
    "                    \"high\": 296.0,\n",
    "                    \"low\": 293.0\n",
    "                },\n",
    "                \"volume\": 21000\n",
    "            }\n",
    "        ],\n",
    "        \"supported_chains\": [\"Solana\", \"Fantom\"]\n",
    "    }\n",
    "]\n",
    "\n"
   ]
  },
  {
   "cell_type": "markdown",
   "id": "c07653c1",
   "metadata": {},
   "source": [
    "### Task 1: Display the current price of \"Token B\""
   ]
  },
  {
   "cell_type": "code",
   "execution_count": 73,
   "id": "6dcc225d",
   "metadata": {},
   "outputs": [
    {
     "name": "stdout",
     "output_type": "stream",
     "text": [
      "200.0\n"
     ]
    }
   ],
   "source": [
    "# solution \n",
    "\n",
    "print(crypto_tokens[1]['current_price_usd'])"
   ]
  },
  {
   "cell_type": "markdown",
   "id": "9febe2a6",
   "metadata": {},
   "source": [
    "### Task 2: Add a new token \"Token D\" with some initial data to the `crypto_tokens` list."
   ]
  },
  {
   "cell_type": "code",
   "execution_count": 74,
   "id": "6cb3b741",
   "metadata": {},
   "outputs": [
    {
     "name": "stdout",
     "output_type": "stream",
     "text": [
      "[{'name': 'Token A', 'symbol': 'TKA', 'blockchain': 'Ethereum', 'current_price_usd': 100.0, 'transaction_history': [{'date': '2024-01-10', 'prices': {'open': 98.0, 'close': 100.0, 'high': 101.0, 'low': 97.0}, 'volume': 12000}, {'date': '2024-01-09', 'prices': {'open': 97.0, 'close': 98.0, 'high': 99.0, 'low': 96.0}, 'volume': 15000}], 'supported_chains': ['Ethereum', 'Polygon']}, {'name': 'Token B', 'symbol': 'TKB', 'blockchain': 'Binance Smart Chain', 'current_price_usd': 200.0, 'transaction_history': [{'date': '2024-01-10', 'prices': {'open': 198.0, 'close': 200.0, 'high': 202.0, 'low': 196.0}, 'volume': 18000}, {'date': '2024-01-09', 'prices': {'open': 196.0, 'close': 198.0, 'high': 199.0, 'low': 195.0}, 'volume': 17000}], 'supported_chains': ['Binance Smart Chain', 'Avalanche']}, {'name': 'Token C', 'symbol': 'TKC', 'blockchain': 'Solana', 'current_price_usd': 300.0, 'transaction_history': [{'date': '2024-01-10', 'prices': {'open': 295.0, 'close': 300.0, 'high': 302.0, 'low': 294.0}, 'volume': 22000}, {'date': '2024-01-09', 'prices': {'open': 294.0, 'close': 295.0, 'high': 296.0, 'low': 293.0}, 'volume': 21000}], 'supported_chains': ['Solana', 'Fantom']}, {'name': 'Token D', 'symbol': 'TKD', 'blockchain': 'Cardano', 'current_price_usd': 150.0, 'transaction_history': [{'date': '2024-01-10', 'prices': {'open': 148.0, 'close': 150.0, 'high': 152.0, 'low': 147.0}, 'volume': 13000}, {'date': '2024-01-09', 'prices': {'open': 147.0, 'close': 148.0, 'high': 149.0, 'low': 146.0}, 'volume': 12500}], 'supported_chains': ['Cardano', 'Polkadot']}]\n"
     ]
    }
   ],
   "source": [
    "# solution\n",
    "\n",
    "crypto_tokens.append(\n",
    "    {\n",
    "    \"name\": \"Token D\",\n",
    "    \"symbol\": \"TKD\",\n",
    "    \"blockchain\": \"Cardano\",\n",
    "    \"current_price_usd\": 150.0,\n",
    "    \"transaction_history\": [\n",
    "        {\n",
    "            \"date\": \"2024-01-10\",\n",
    "            \"prices\": {\n",
    "                \"open\": 148.0,\n",
    "                \"close\": 150.0,\n",
    "                \"high\": 152.0,\n",
    "                \"low\": 147.0\n",
    "            },\n",
    "            \"volume\": 13000\n",
    "        },\n",
    "        {\n",
    "            \"date\": \"2024-01-09\",\n",
    "            \"prices\": {\n",
    "                \"open\": 147.0,\n",
    "                \"close\": 148.0,\n",
    "                \"high\": 149.0,\n",
    "                \"low\": 146.0\n",
    "            },\n",
    "            \"volume\": 12500\n",
    "        }\n",
    "    ],\n",
    "    \"supported_chains\": [\"Cardano\", \"Polkadot\"]\n",
    "}\n",
    ")\n",
    "\n",
    "print(crypto_tokens)"
   ]
  },
  {
   "cell_type": "markdown",
   "id": "ad7c53be",
   "metadata": {},
   "source": [
    "### Task 3: Update the current price of \"Token C\" to 310.0."
   ]
  },
  {
   "cell_type": "code",
   "execution_count": 75,
   "id": "8c2c139c",
   "metadata": {},
   "outputs": [
    {
     "name": "stdout",
     "output_type": "stream",
     "text": [
      "310.0\n"
     ]
    }
   ],
   "source": [
    "# solution\n",
    "\n",
    "crypto_tokens[2].update({'current_price_usd':310.0})\n",
    "\n",
    "# crypto_tokens[2]['current_price_usd'] = 310.0         # this is another way to update the price\n",
    "\n",
    "\n",
    "# .update() is used when you're modifying or adding a key-value pair at the top level of a dictionary.\n",
    "# But .update() is preferred when updating multiple keys at once or when the intention is to cleanly merge a small dictionary into another.\n",
    "\n",
    "print(crypto_tokens[2]['current_price_usd'])"
   ]
  },
  {
   "cell_type": "markdown",
   "id": "e76f0669",
   "metadata": {},
   "source": [
    "✅ Summary of `.update()` Method (Python Dictionary).          # .update() ONLY WORKS ON PYTHON DICTIONARIES\n",
    "\n",
    "- `.update()` is used to **modify** or **add** key-value pairs in a dictionary.\n",
    "- It **updates existing keys** with new values.\n",
    "- It **adds new keys** if they don’t already exist.\n",
    "- It works with:\n",
    "  - Another dictionary\n",
    "  - A list of key-value pairs\n",
    "  - Keyword arguments (`key=value`)\n",
    "- It **modifies the dictionary in place** (does not return a new one).\n",
    "\n",
    " 🔹 Example:\n",
    "\n",
    "user = {'name': 'Alice', 'age': 25}\n",
    "\n",
    "user.update({'age': 26, 'city': 'London'})\n",
    "\n",
    "Result: {'name': 'Alice', 'age': 26, 'city': 'London'}\n"
   ]
  },
  {
   "cell_type": "code",
   "execution_count": 76,
   "id": "9031aac9",
   "metadata": {},
   "outputs": [
    {
     "data": {
      "text/plain": [
       "{'name': 'Token C',\n",
       " 'symbol': 'TKC',\n",
       " 'blockchain': 'Solana',\n",
       " 'current_price_usd': 310.0,\n",
       " 'transaction_history': [{'date': '2024-01-10',\n",
       "   'prices': {'open': 295.0, 'close': 300.0, 'high': 302.0, 'low': 294.0},\n",
       "   'volume': 22000},\n",
       "  {'date': '2024-01-09',\n",
       "   'prices': {'open': 294.0, 'close': 295.0, 'high': 296.0, 'low': 293.0},\n",
       "   'volume': 21000}],\n",
       " 'supported_chains': ['Solana', 'Fantom']}"
      ]
     },
     "execution_count": 76,
     "metadata": {},
     "output_type": "execute_result"
    }
   ],
   "source": [
    "crypto_tokens[2]"
   ]
  },
  {
   "cell_type": "markdown",
   "id": "9558f7da",
   "metadata": {},
   "source": [
    "### Task 4: Remove the transaction history for \"Token A\" on \"2024-01-09\"."
   ]
  },
  {
   "cell_type": "code",
   "execution_count": 77,
   "id": "80e6aa30",
   "metadata": {},
   "outputs": [
    {
     "data": {
      "text/plain": [
       "[{'date': '2024-01-10',\n",
       "  'prices': {'open': 98.0, 'close': 100.0, 'high': 101.0, 'low': 97.0},\n",
       "  'volume': 12000},\n",
       " {'date': '2024-01-09',\n",
       "  'prices': {'open': 97.0, 'close': 98.0, 'high': 99.0, 'low': 96.0},\n",
       "  'volume': 15000}]"
      ]
     },
     "execution_count": 77,
     "metadata": {},
     "output_type": "execute_result"
    }
   ],
   "source": [
    "crypto_tokens[0]['transaction_history']"
   ]
  },
  {
   "cell_type": "code",
   "execution_count": 78,
   "id": "36653de0",
   "metadata": {},
   "outputs": [
    {
     "data": {
      "text/plain": [
       "{'date': '2024-01-09',\n",
       " 'prices': {'open': 97.0, 'close': 98.0, 'high': 99.0, 'low': 96.0},\n",
       " 'volume': 15000}"
      ]
     },
     "execution_count": 78,
     "metadata": {},
     "output_type": "execute_result"
    }
   ],
   "source": [
    "# solution\n",
    "\n",
    "crypto_tokens[0]['transaction_history'].pop(1)"
   ]
  },
  {
   "cell_type": "code",
   "execution_count": 79,
   "id": "8255c47c",
   "metadata": {},
   "outputs": [
    {
     "data": {
      "text/plain": [
       "[{'date': '2024-01-10',\n",
       "  'prices': {'open': 98.0, 'close': 100.0, 'high': 101.0, 'low': 97.0},\n",
       "  'volume': 12000}]"
      ]
     },
     "execution_count": 79,
     "metadata": {},
     "output_type": "execute_result"
    }
   ],
   "source": [
    "crypto_tokens[0]['transaction_history']"
   ]
  },
  {
   "cell_type": "markdown",
   "id": "76654d9c",
   "metadata": {},
   "source": [
    "### Task 5: Display the closing price of \"Token B\" on \"2024-01-10\"."
   ]
  },
  {
   "cell_type": "code",
   "execution_count": 80,
   "id": "8170ee30",
   "metadata": {},
   "outputs": [
    {
     "data": {
      "text/plain": [
       "200.0"
      ]
     },
     "execution_count": 80,
     "metadata": {},
     "output_type": "execute_result"
    }
   ],
   "source": [
    "# solution\n",
    "\n",
    "crypto_tokens[1]['transaction_history'][0]['prices']['close']"
   ]
  },
  {
   "cell_type": "markdown",
   "id": "271793b8",
   "metadata": {},
   "source": [
    "### Task 6: Change the opening price of \"Token A\" on \"2024-01-10\" to 99.0."
   ]
  },
  {
   "cell_type": "code",
   "execution_count": 81,
   "id": "c296f0fb",
   "metadata": {},
   "outputs": [
    {
     "data": {
      "text/plain": [
       "{'name': 'Token A',\n",
       " 'symbol': 'TKA',\n",
       " 'blockchain': 'Ethereum',\n",
       " 'current_price_usd': 100.0,\n",
       " 'transaction_history': [{'date': '2024-01-10',\n",
       "   'prices': {'open': 98.0, 'close': 100.0, 'high': 101.0, 'low': 97.0},\n",
       "   'volume': 12000}],\n",
       " 'supported_chains': ['Ethereum', 'Polygon']}"
      ]
     },
     "execution_count": 81,
     "metadata": {},
     "output_type": "execute_result"
    }
   ],
   "source": [
    "crypto_tokens[0]"
   ]
  },
  {
   "cell_type": "code",
   "execution_count": 82,
   "id": "f7e380f6",
   "metadata": {},
   "outputs": [
    {
     "name": "stdout",
     "output_type": "stream",
     "text": [
      "{'open': 99.0, 'close': 100.0, 'high': 101.0, 'low': 97.0}\n"
     ]
    }
   ],
   "source": [
    "# solution\n",
    "\n",
    "crypto_tokens[0]['transaction_history'][0]['prices']['open'] = 99.0\n",
    "\n",
    "print(crypto_tokens[0]['transaction_history'][0]['prices'])"
   ]
  },
  {
   "cell_type": "markdown",
   "id": "4b50a15f",
   "metadata": {},
   "source": [
    "Here I'm updating a value nested deep inside the data structure.\n",
    "\n",
    "so I can’t use .update() unless I am already at the dictionary where the key exists.\n",
    "\n",
    "I'm targeting:\n",
    "\n",
    "- crypto_tokens[0] → the first token (Token A)\n",
    "\n",
    "- Inside its transaction_history list, the first element\n",
    "\n",
    "- Inside that, the prices dictionary\n",
    "\n",
    "- And finally, setting 'open' to 99.0\n",
    "\n",
    "👉 Direct assignment (=) is necessary here because:\n",
    "\n",
    "- I am not updating the top-level dictionary.\n",
    "\n",
    "- I am modifying an existing nested value, not merging in a new set of keys."
   ]
  },
  {
   "cell_type": "markdown",
   "id": "d9646f77",
   "metadata": {},
   "source": [
    "| Case                             | Method Used   | Why? |\n",
    "|----------------------------------|---------------|------|\n",
    "| Updating a **top-level** key     | `.update()`   | Clean, flexible way to set or add keys at the top level of a dictionary |\n",
    "| Updating a **nested** key        | Direct `=`    | Required when targeting a deeply nested value—`.update()` can’t reach that far |\n"
   ]
  },
  {
   "cell_type": "markdown",
   "id": "e7e1367c",
   "metadata": {},
   "source": [
    "### Task 7: Add a new transaction history entry for \"Token C\" on \"2024-01-11\"."
   ]
  },
  {
   "cell_type": "code",
   "execution_count": 83,
   "id": "d5d4152d",
   "metadata": {},
   "outputs": [
    {
     "data": {
      "text/plain": [
       "{'name': 'Token C',\n",
       " 'symbol': 'TKC',\n",
       " 'blockchain': 'Solana',\n",
       " 'current_price_usd': 310.0,\n",
       " 'transaction_history': [{'date': '2024-01-10',\n",
       "   'prices': {'open': 295.0, 'close': 300.0, 'high': 302.0, 'low': 294.0},\n",
       "   'volume': 22000},\n",
       "  {'date': '2024-01-09',\n",
       "   'prices': {'open': 294.0, 'close': 295.0, 'high': 296.0, 'low': 293.0},\n",
       "   'volume': 21000}],\n",
       " 'supported_chains': ['Solana', 'Fantom']}"
      ]
     },
     "execution_count": 83,
     "metadata": {},
     "output_type": "execute_result"
    }
   ],
   "source": [
    "crypto_tokens[2]"
   ]
  },
  {
   "cell_type": "code",
   "execution_count": 84,
   "id": "348e8b9f",
   "metadata": {},
   "outputs": [
    {
     "name": "stdout",
     "output_type": "stream",
     "text": [
      "{'name': 'Token C', 'symbol': 'TKC', 'blockchain': 'Solana', 'current_price_usd': 310.0, 'transaction_history': [{'date': '2024-01-10', 'prices': {'open': 295.0, 'close': 300.0, 'high': 302.0, 'low': 294.0}, 'volume': 22000}, {'date': '2024-01-09', 'prices': {'open': 294.0, 'close': 295.0, 'high': 296.0, 'low': 293.0}, 'volume': 21000}, {'date': '2024-01-11', 'prices': {'open': 305.0, 'close': 310.0, 'high': 312.0, 'low': 304.0}, 'volume': 25000}], 'supported_chains': ['Solana', 'Fantom']}\n"
     ]
    }
   ],
   "source": [
    "# solution\n",
    "\n",
    "crypto_tokens[2]['transaction_history'].append(\n",
    "    {\n",
    "        \"date\": \"2024-01-11\",\n",
    "        \"prices\": {\n",
    "            \"open\": 305.0,\n",
    "            \"close\": 310.0,\n",
    "            \"high\": 312.0,\n",
    "            \"low\": 304.0\n",
    "        },\n",
    "        \"volume\": 25000\n",
    "    }\n",
    ")\n",
    "\n",
    "print(crypto_tokens[2])"
   ]
  },
  {
   "cell_type": "code",
   "execution_count": 85,
   "id": "cee715fc",
   "metadata": {},
   "outputs": [
    {
     "data": {
      "text/plain": [
       "{'name': 'Token C',\n",
       " 'symbol': 'TKC',\n",
       " 'blockchain': 'Solana',\n",
       " 'current_price_usd': 310.0,\n",
       " 'transaction_history': [{'date': '2024-01-10',\n",
       "   'prices': {'open': 295.0, 'close': 300.0, 'high': 302.0, 'low': 294.0},\n",
       "   'volume': 22000},\n",
       "  {'date': '2024-01-09',\n",
       "   'prices': {'open': 294.0, 'close': 295.0, 'high': 296.0, 'low': 293.0},\n",
       "   'volume': 21000},\n",
       "  {'date': '2024-01-11',\n",
       "   'prices': {'open': 305.0, 'close': 310.0, 'high': 312.0, 'low': 304.0},\n",
       "   'volume': 25000}],\n",
       " 'supported_chains': ['Solana', 'Fantom']}"
      ]
     },
     "execution_count": 85,
     "metadata": {},
     "output_type": "execute_result"
    }
   ],
   "source": [
    "crypto_tokens[2]"
   ]
  },
  {
   "cell_type": "code",
   "execution_count": 86,
   "id": "d80110fd",
   "metadata": {},
   "outputs": [],
   "source": [
    "crypto_tokens[2]['transaction_history'].sort(key=lambda x: x['date'])  # Sorts by date in ascending order\n",
    "\n",
    "crypto_tokens[2]['transaction_history'].sort(key=lambda x: x['date'], reverse=True) # Sorts by date in descending order\n"
   ]
  },
  {
   "cell_type": "code",
   "execution_count": 87,
   "id": "9ef6b0cb",
   "metadata": {},
   "outputs": [
    {
     "data": {
      "text/plain": [
       "{'name': 'Token C',\n",
       " 'symbol': 'TKC',\n",
       " 'blockchain': 'Solana',\n",
       " 'current_price_usd': 310.0,\n",
       " 'transaction_history': [{'date': '2024-01-11',\n",
       "   'prices': {'open': 305.0, 'close': 310.0, 'high': 312.0, 'low': 304.0},\n",
       "   'volume': 25000},\n",
       "  {'date': '2024-01-10',\n",
       "   'prices': {'open': 295.0, 'close': 300.0, 'high': 302.0, 'low': 294.0},\n",
       "   'volume': 22000},\n",
       "  {'date': '2024-01-09',\n",
       "   'prices': {'open': 294.0, 'close': 295.0, 'high': 296.0, 'low': 293.0},\n",
       "   'volume': 21000}],\n",
       " 'supported_chains': ['Solana', 'Fantom']}"
      ]
     },
     "execution_count": 87,
     "metadata": {},
     "output_type": "execute_result"
    }
   ],
   "source": [
    "crypto_tokens[2]"
   ]
  },
  {
   "cell_type": "markdown",
   "id": "dfd6b9c0",
   "metadata": {},
   "source": [
    "### Task 8: Remove \"Avalanche\" from the supported chains of \"Token B\"."
   ]
  },
  {
   "cell_type": "code",
   "execution_count": 88,
   "id": "feaed1c3",
   "metadata": {},
   "outputs": [
    {
     "data": {
      "text/plain": [
       "{'name': 'Token B',\n",
       " 'symbol': 'TKB',\n",
       " 'blockchain': 'Binance Smart Chain',\n",
       " 'current_price_usd': 200.0,\n",
       " 'transaction_history': [{'date': '2024-01-10',\n",
       "   'prices': {'open': 198.0, 'close': 200.0, 'high': 202.0, 'low': 196.0},\n",
       "   'volume': 18000},\n",
       "  {'date': '2024-01-09',\n",
       "   'prices': {'open': 196.0, 'close': 198.0, 'high': 199.0, 'low': 195.0},\n",
       "   'volume': 17000}],\n",
       " 'supported_chains': ['Binance Smart Chain', 'Avalanche']}"
      ]
     },
     "execution_count": 88,
     "metadata": {},
     "output_type": "execute_result"
    }
   ],
   "source": [
    "crypto_tokens[1]"
   ]
  },
  {
   "cell_type": "code",
   "execution_count": 89,
   "id": "b6491893",
   "metadata": {},
   "outputs": [
    {
     "data": {
      "text/plain": [
       "'Avalanche'"
      ]
     },
     "execution_count": 89,
     "metadata": {},
     "output_type": "execute_result"
    }
   ],
   "source": [
    "# solution\n",
    "\n",
    "crypto_tokens[1]['supported_chains'].pop(1)"
   ]
  },
  {
   "cell_type": "code",
   "execution_count": 90,
   "id": "3e7041c7",
   "metadata": {},
   "outputs": [
    {
     "data": {
      "text/plain": [
       "{'name': 'Token B',\n",
       " 'symbol': 'TKB',\n",
       " 'blockchain': 'Binance Smart Chain',\n",
       " 'current_price_usd': 200.0,\n",
       " 'transaction_history': [{'date': '2024-01-10',\n",
       "   'prices': {'open': 198.0, 'close': 200.0, 'high': 202.0, 'low': 196.0},\n",
       "   'volume': 18000},\n",
       "  {'date': '2024-01-09',\n",
       "   'prices': {'open': 196.0, 'close': 198.0, 'high': 199.0, 'low': 195.0},\n",
       "   'volume': 17000}],\n",
       " 'supported_chains': ['Binance Smart Chain']}"
      ]
     },
     "execution_count": 90,
     "metadata": {},
     "output_type": "execute_result"
    }
   ],
   "source": [
    "crypto_tokens[1]"
   ]
  },
  {
   "cell_type": "markdown",
   "id": "cdd4ecf0",
   "metadata": {},
   "source": [
    "---"
   ]
  },
  {
   "cell_type": "markdown",
   "id": "012d426b",
   "metadata": {},
   "source": [
    "## Problem 2: Crypto Investment Portfolio\n",
    "\n",
    "This data structure represents a crypto investment portfolio, including various assets like tokens, stablecoins, and NFTs, along with their holdings and performance metrics.\n",
    "\n",
    "\n",
    "```python\n",
    "crypto_portfolio = {\n",
    "    \"investor_name\": \"Jane Doe\",\n",
    "    \"portfolio_id\": \"JD1234\",\n",
    "    \"assets\": {\n",
    "        \"tokens\": [\n",
    "            {\n",
    "                \"ticker\": \"ETH\",\n",
    "                \"quantity\": 50,\n",
    "                \"purchase_price\": 2000.00,\n",
    "                \"current_price\": 2100.00\n",
    "            },\n",
    "            {\n",
    "                \"ticker\": \"BTC\",\n",
    "                \"quantity\": 30,\n",
    "                \"purchase_price\": 40000.00,\n",
    "                \"current_price\": 41000.00\n",
    "            }\n",
    "        ],\n",
    "        \"stablecoins\": [\n",
    "            {\n",
    "                \"identifier\": \"USDC\",\n",
    "                \"quantity\": 10000,\n",
    "                \"purchase_price\": 1.00,\n",
    "                \"current_price\": 1.00,\n",
    "                \"peg_currency\": \"USD\"\n",
    "            }\n",
    "        ],\n",
    "        \"nfts\": [\n",
    "            {\n",
    "                \"name\": \"CryptoArt 123\",\n",
    "                \"quantity\": 1,\n",
    "                \"purchase_price\": 5000.00,\n",
    "                \"current_price\": 5500.00\n",
    "            }\n",
    "        ]\n",
    "    },\n",
    "    \"cash_holdings_usd\": 10000.00,\n",
    "    \"investment_goals\": {\"retirement\": 2035, \"education\": 2025}\n",
    "}\n",
    "```\n",
    "\n",
    "\n",
    "Q1: Read Data  \n",
    "\n",
    "Task: Display the current price of the NFT \"CryptoArt 123\".\n",
    "\n",
    "\n",
    "Q2: Write Data  \n",
    "\n",
    "Task: Add a new token with ticker \"ADA\", 1000 units, a purchase price of 1.50, and a current price of 1.60 to the tokens in the assets.\n",
    "\n",
    "\n",
    "Q3: Update Data \n",
    "\n",
    "Task: Update the quantity of \"ETH\" token to 60.\n",
    "\n",
    "\n",
    "Q4: Delete Data \n",
    "\n",
    "Task: Remove the stablecoin with identifier \"USDC\" from the stablecoins in assets.\n",
    "\n",
    "\n",
    "Q5: Read Nested Data\n",
    "\n",
    "Task: Display the peg currency of the stablecoin in the portfolio.\n",
    "\n",
    "\n",
    "Q6: Update Nested Data  \n",
    "\n",
    "Task: Change the current price of \"BTC\" token to 41500.00.\n",
    "\n",
    "\n",
    "Q7: Add Nested Data  \n",
    "\n",
    "Task: Add a new goal \"vacation\" set for the year 2028 in the investment goals.\n",
    "\n",
    "\n",
    "Q8: Delete an Item from a List Inside a Dictionary  \n",
    "\n",
    "Task: Remove the NFT \"CryptoArt 123\" from the portfolio."
   ]
  },
  {
   "cell_type": "code",
   "execution_count": 91,
   "id": "26bb3489",
   "metadata": {},
   "outputs": [],
   "source": [
    "crypto_portfolio = {\n",
    "    \"investor_name\": \"Jane Doe\",\n",
    "    \"portfolio_id\": \"JD1234\",\n",
    "    \"assets\": {\n",
    "        \"tokens\": [\n",
    "            {\n",
    "                \"ticker\": \"ETH\",\n",
    "                \"quantity\": 50,\n",
    "                \"purchase_price\": 2000.00,\n",
    "                \"current_price\": 2100.00\n",
    "            },\n",
    "            {\n",
    "                \"ticker\": \"BTC\",\n",
    "                \"quantity\": 30,\n",
    "                \"purchase_price\": 40000.00,\n",
    "                \"current_price\": 41000.00\n",
    "            }\n",
    "        ],\n",
    "        \"stablecoins\": [\n",
    "            {\n",
    "                \"identifier\": \"USDC\",\n",
    "                \"quantity\": 10000,\n",
    "                \"purchase_price\": 1.00,\n",
    "                \"current_price\": 1.00,\n",
    "                \"peg_currency\": \"USD\"\n",
    "            }\n",
    "        ],\n",
    "        \"nfts\": [\n",
    "            {\n",
    "                \"name\": \"CryptoArt 123\",\n",
    "                \"quantity\": 1,\n",
    "                \"purchase_price\": 5000.00,\n",
    "                \"current_price\": 5500.00\n",
    "            }\n",
    "        ]\n",
    "    },\n",
    "    \"cash_holdings_usd\": 10000.00,\n",
    "    \"investment_goals\": {\"retirement\": 2035, \"education\": 2025}\n",
    "}"
   ]
  },
  {
   "cell_type": "markdown",
   "id": "b8012c1a",
   "metadata": {},
   "source": [
    "### Task 1: Display the current price of the NFT \"CryptoArt 123\"."
   ]
  },
  {
   "cell_type": "code",
   "execution_count": 92,
   "id": "297f36bc",
   "metadata": {},
   "outputs": [
    {
     "data": {
      "text/plain": [
       "5500.0"
      ]
     },
     "execution_count": 92,
     "metadata": {},
     "output_type": "execute_result"
    }
   ],
   "source": [
    "# solution\n",
    "\n",
    "crypto_portfolio['assets']['nfts'][0]['current_price']"
   ]
  },
  {
   "cell_type": "markdown",
   "id": "98f96b3e",
   "metadata": {},
   "source": [
    "### Task 2: Add a new token with ticker \"ADA\", 1000 units, a purchase price of 1.50, and a current price of 1.60 to the tokens in the assets."
   ]
  },
  {
   "cell_type": "code",
   "execution_count": 93,
   "id": "fd64f9cd",
   "metadata": {},
   "outputs": [
    {
     "name": "stdout",
     "output_type": "stream",
     "text": [
      "[{'ticker': 'ETH', 'quantity': 50, 'purchase_price': 2000.0, 'current_price': 2100.0}, {'ticker': 'BTC', 'quantity': 30, 'purchase_price': 40000.0, 'current_price': 41000.0}, {'ticker': 'ADA', 'quantity': 1000, 'purchase_price': 1.5, 'current_price': 1.6}]\n"
     ]
    }
   ],
   "source": [
    "# solution\n",
    "\n",
    "crypto_portfolio['assets']['tokens'].append(\n",
    "    {\n",
    "        \"ticker\": \"ADA\",\n",
    "        \"quantity\": 1000,\n",
    "        \"purchase_price\": 1.50,\n",
    "        \"current_price\": 1.60\n",
    "    }\n",
    ")\n",
    "\n",
    "print(crypto_portfolio['assets']['tokens'])"
   ]
  },
  {
   "cell_type": "markdown",
   "id": "5101996c",
   "metadata": {},
   "source": [
    "### Task 3: Update the quantity of \"ETH\" token to 60."
   ]
  },
  {
   "cell_type": "code",
   "execution_count": 94,
   "id": "3bd94d24",
   "metadata": {},
   "outputs": [
    {
     "data": {
      "text/plain": [
       "[{'ticker': 'ETH',\n",
       "  'quantity': 50,\n",
       "  'purchase_price': 2000.0,\n",
       "  'current_price': 2100.0},\n",
       " {'ticker': 'BTC',\n",
       "  'quantity': 30,\n",
       "  'purchase_price': 40000.0,\n",
       "  'current_price': 41000.0},\n",
       " {'ticker': 'ADA',\n",
       "  'quantity': 1000,\n",
       "  'purchase_price': 1.5,\n",
       "  'current_price': 1.6}]"
      ]
     },
     "execution_count": 94,
     "metadata": {},
     "output_type": "execute_result"
    }
   ],
   "source": [
    "crypto_portfolio['assets']['tokens']"
   ]
  },
  {
   "cell_type": "code",
   "execution_count": 95,
   "id": "39bc4803",
   "metadata": {},
   "outputs": [
    {
     "data": {
      "text/plain": [
       "[{'ticker': 'ETH',\n",
       "  'quantity': 60,\n",
       "  'purchase_price': 2000.0,\n",
       "  'current_price': 2100.0},\n",
       " {'ticker': 'BTC',\n",
       "  'quantity': 30,\n",
       "  'purchase_price': 40000.0,\n",
       "  'current_price': 41000.0},\n",
       " {'ticker': 'ADA',\n",
       "  'quantity': 1000,\n",
       "  'purchase_price': 1.5,\n",
       "  'current_price': 1.6}]"
      ]
     },
     "execution_count": 95,
     "metadata": {},
     "output_type": "execute_result"
    }
   ],
   "source": [
    "# solution\n",
    "\n",
    "crypto_portfolio['assets']['tokens'][0]['quantity'] = 60            # i could also use .update() here.          .update also works only on python dictionaries, not lists. \n",
    "\n",
    "crypto_portfolio['assets']['tokens']"
   ]
  },
  {
   "cell_type": "markdown",
   "id": "699a59f3",
   "metadata": {},
   "source": [
    "### Task 4: Remove the stablecoin with identifier \"USDC\" from the stablecoins in assets."
   ]
  },
  {
   "cell_type": "code",
   "execution_count": 96,
   "id": "1c4b02d5",
   "metadata": {},
   "outputs": [
    {
     "data": {
      "text/plain": [
       "[{'identifier': 'USDC',\n",
       "  'quantity': 10000,\n",
       "  'purchase_price': 1.0,\n",
       "  'current_price': 1.0,\n",
       "  'peg_currency': 'USD'}]"
      ]
     },
     "execution_count": 96,
     "metadata": {},
     "output_type": "execute_result"
    }
   ],
   "source": [
    "crypto_portfolio['assets']['stablecoins']"
   ]
  },
  {
   "cell_type": "code",
   "execution_count": 97,
   "id": "5c04d948",
   "metadata": {},
   "outputs": [
    {
     "name": "stdout",
     "output_type": "stream",
     "text": [
      "[{'quantity': 10000, 'purchase_price': 1.0, 'current_price': 1.0, 'peg_currency': 'USD'}]\n"
     ]
    }
   ],
   "source": [
    "# solution\n",
    "\n",
    "crypto_portfolio['assets']['stablecoins'][0].pop('identifier')\n",
    "\n",
    "print(crypto_portfolio['assets']['stablecoins'])"
   ]
  },
  {
   "cell_type": "code",
   "execution_count": 98,
   "id": "d4f39862",
   "metadata": {},
   "outputs": [
    {
     "data": {
      "text/plain": [
       "{'tokens': [{'ticker': 'ETH',\n",
       "   'quantity': 60,\n",
       "   'purchase_price': 2000.0,\n",
       "   'current_price': 2100.0},\n",
       "  {'ticker': 'BTC',\n",
       "   'quantity': 30,\n",
       "   'purchase_price': 40000.0,\n",
       "   'current_price': 41000.0},\n",
       "  {'ticker': 'ADA',\n",
       "   'quantity': 1000,\n",
       "   'purchase_price': 1.5,\n",
       "   'current_price': 1.6}],\n",
       " 'stablecoins': [{'quantity': 10000,\n",
       "   'purchase_price': 1.0,\n",
       "   'current_price': 1.0,\n",
       "   'peg_currency': 'USD'}],\n",
       " 'nfts': [{'name': 'CryptoArt 123',\n",
       "   'quantity': 1,\n",
       "   'purchase_price': 5000.0,\n",
       "   'current_price': 5500.0}]}"
      ]
     },
     "execution_count": 98,
     "metadata": {},
     "output_type": "execute_result"
    }
   ],
   "source": [
    "crypto_portfolio['assets']"
   ]
  },
  {
   "cell_type": "markdown",
   "id": "b516cd08",
   "metadata": {},
   "source": [
    "### Task 5: Display the peg currency of the stablecoin in the portfolio."
   ]
  },
  {
   "cell_type": "code",
   "execution_count": 99,
   "id": "42568fb9",
   "metadata": {},
   "outputs": [
    {
     "data": {
      "text/plain": [
       "'USD'"
      ]
     },
     "execution_count": 99,
     "metadata": {},
     "output_type": "execute_result"
    }
   ],
   "source": [
    "# solution\n",
    "\n",
    "crypto_portfolio['assets']['stablecoins'][0]['peg_currency']"
   ]
  },
  {
   "cell_type": "markdown",
   "id": "44636420",
   "metadata": {},
   "source": [
    "### Task 6: Change the current price of \"BTC\" token to 41500.00."
   ]
  },
  {
   "cell_type": "code",
   "execution_count": 100,
   "id": "d08af430",
   "metadata": {},
   "outputs": [
    {
     "name": "stdout",
     "output_type": "stream",
     "text": [
      "{'ticker': 'BTC', 'quantity': 30, 'purchase_price': 40000.0, 'current_price': 41500.0}\n"
     ]
    }
   ],
   "source": [
    "# solution\n",
    "\n",
    "crypto_portfolio['assets']['tokens'][1]['current_price'] = 41500.00\n",
    "\n",
    "print(crypto_portfolio['assets']['tokens'][1])"
   ]
  },
  {
   "cell_type": "markdown",
   "id": "1a66cae0",
   "metadata": {},
   "source": [
    "### Task 7: Add a new goal \"vacation\" set for the year 2028 in the investment goals."
   ]
  },
  {
   "cell_type": "code",
   "execution_count": 101,
   "id": "93cbce25",
   "metadata": {},
   "outputs": [
    {
     "data": {
      "text/plain": [
       "{'investor_name': 'Jane Doe',\n",
       " 'portfolio_id': 'JD1234',\n",
       " 'assets': {'tokens': [{'ticker': 'ETH',\n",
       "    'quantity': 60,\n",
       "    'purchase_price': 2000.0,\n",
       "    'current_price': 2100.0},\n",
       "   {'ticker': 'BTC',\n",
       "    'quantity': 30,\n",
       "    'purchase_price': 40000.0,\n",
       "    'current_price': 41500.0},\n",
       "   {'ticker': 'ADA',\n",
       "    'quantity': 1000,\n",
       "    'purchase_price': 1.5,\n",
       "    'current_price': 1.6}],\n",
       "  'stablecoins': [{'quantity': 10000,\n",
       "    'purchase_price': 1.0,\n",
       "    'current_price': 1.0,\n",
       "    'peg_currency': 'USD'}],\n",
       "  'nfts': [{'name': 'CryptoArt 123',\n",
       "    'quantity': 1,\n",
       "    'purchase_price': 5000.0,\n",
       "    'current_price': 5500.0}]},\n",
       " 'cash_holdings_usd': 10000.0,\n",
       " 'investment_goals': {'retirement': 2035, 'education': 2025}}"
      ]
     },
     "execution_count": 101,
     "metadata": {},
     "output_type": "execute_result"
    }
   ],
   "source": [
    "crypto_portfolio"
   ]
  },
  {
   "cell_type": "code",
   "execution_count": 102,
   "id": "27d0b68b",
   "metadata": {},
   "outputs": [
    {
     "name": "stdout",
     "output_type": "stream",
     "text": [
      "{'retirement': 2035, 'education': 2025, 'vacation': 2028}\n"
     ]
    }
   ],
   "source": [
    "# solution\n",
    "\n",
    "crypto_portfolio['investment_goals'].update({'vacation': 2028})\n",
    "\n",
    "print(crypto_portfolio['investment_goals'])"
   ]
  },
  {
   "cell_type": "markdown",
   "id": "4f003f9b",
   "metadata": {},
   "source": [
    "### Task 8: Remove the NFT \"CryptoArt 123\" from the portfolio."
   ]
  },
  {
   "cell_type": "code",
   "execution_count": 103,
   "id": "fd1f7eee",
   "metadata": {},
   "outputs": [
    {
     "data": {
      "text/plain": [
       "{'investor_name': 'Jane Doe',\n",
       " 'portfolio_id': 'JD1234',\n",
       " 'assets': {'tokens': [{'ticker': 'ETH',\n",
       "    'quantity': 60,\n",
       "    'purchase_price': 2000.0,\n",
       "    'current_price': 2100.0},\n",
       "   {'ticker': 'BTC',\n",
       "    'quantity': 30,\n",
       "    'purchase_price': 40000.0,\n",
       "    'current_price': 41500.0},\n",
       "   {'ticker': 'ADA',\n",
       "    'quantity': 1000,\n",
       "    'purchase_price': 1.5,\n",
       "    'current_price': 1.6}],\n",
       "  'stablecoins': [{'quantity': 10000,\n",
       "    'purchase_price': 1.0,\n",
       "    'current_price': 1.0,\n",
       "    'peg_currency': 'USD'}],\n",
       "  'nfts': [{'name': 'CryptoArt 123',\n",
       "    'quantity': 1,\n",
       "    'purchase_price': 5000.0,\n",
       "    'current_price': 5500.0}]},\n",
       " 'cash_holdings_usd': 10000.0,\n",
       " 'investment_goals': {'retirement': 2035, 'education': 2025, 'vacation': 2028}}"
      ]
     },
     "execution_count": 103,
     "metadata": {},
     "output_type": "execute_result"
    }
   ],
   "source": [
    "crypto_portfolio"
   ]
  },
  {
   "cell_type": "code",
   "execution_count": 104,
   "id": "4826419b",
   "metadata": {},
   "outputs": [
    {
     "data": {
      "text/plain": [
       "{'investor_name': 'Jane Doe',\n",
       " 'portfolio_id': 'JD1234',\n",
       " 'assets': {'tokens': [{'ticker': 'ETH',\n",
       "    'quantity': 60,\n",
       "    'purchase_price': 2000.0,\n",
       "    'current_price': 2100.0},\n",
       "   {'ticker': 'BTC',\n",
       "    'quantity': 30,\n",
       "    'purchase_price': 40000.0,\n",
       "    'current_price': 41500.0},\n",
       "   {'ticker': 'ADA',\n",
       "    'quantity': 1000,\n",
       "    'purchase_price': 1.5,\n",
       "    'current_price': 1.6}],\n",
       "  'stablecoins': [{'quantity': 10000,\n",
       "    'purchase_price': 1.0,\n",
       "    'current_price': 1.0,\n",
       "    'peg_currency': 'USD'}],\n",
       "  'nfts': []},\n",
       " 'cash_holdings_usd': 10000.0,\n",
       " 'investment_goals': {'retirement': 2035, 'education': 2025, 'vacation': 2028}}"
      ]
     },
     "execution_count": 104,
     "metadata": {},
     "output_type": "execute_result"
    }
   ],
   "source": [
    "# solution\n",
    "\n",
    "crypto_portfolio['assets']['nfts'].pop(0)\n",
    "\n",
    "crypto_portfolio"
   ]
  },
  {
   "cell_type": "markdown",
   "id": "b3d114ad",
   "metadata": {},
   "source": [
    "---"
   ]
  },
  {
   "cell_type": "markdown",
   "id": "0614450c",
   "metadata": {},
   "source": [
    "# Problem 3: Blockchain Market Analysis\n",
    "\n",
    "This data structure represents an analysis of blockchain ecosystems, including protocols and their token performance.\n",
    "\n",
    "```python\n",
    "blockchain_analysis = {\n",
    "    \"ecosystems\": {\n",
    "        \"DeFi\": {\n",
    "            \"protocols\": [\n",
    "                {\"name\": \"Protocol A\", \"ticker\": \"PDA\", \"price_change\": 5.2},\n",
    "                {\"name\": \"Protocol B\", \"ticker\": \"PDB\", \"price_change\": -3.1}\n",
    "            ]\n",
    "        },\n",
    "        \"NFTs\": {\n",
    "            \"protocols\": [\n",
    "                {\"name\": \"NFT Market A\", \"ticker\": \"NMA\", \"price_change\": 4.0},\n",
    "                {\"name\": \"NFT Market B\", \"ticker\": \"NMB\", \"price_change\": 2.5}\n",
    "            ]\n",
    "        }\n",
    "    },\n",
    "    \"market_performance\": {\n",
    "        \"Crypto Index\": {\"change\": 1.5},\n",
    "        \"DeFi Index\": {\"change\": 2.3},\n",
    "        \"NFT Index\": {\"change\": -1.2}\n",
    "    },\n",
    "    \"notable_events\": [\n",
    "        (\"2024-01-10\", \"Network Upgrade\", \"Ethereum completes sharding upgrade\"),\n",
    "        (\"2024-01-15\", \"Token Launch\", \"Protocol A launches governance token\")\n",
    "    ]\n",
    "}\n",
    "```\n",
    "\n",
    "Q1: Read Data\n",
    "\n",
    "Task: Display the price change of \"NFT Market B\".\n",
    "\n",
    "\n",
    "Q2: Write Data  \n",
    "\n",
    "Task: Add a new ecosystem \"Layer 2\" with one protocol \"Layer 2 Protocol A\" having a ticker \"L2A\" and a price change of -2.0.\n",
    "\n",
    "\n",
    "Q3: Update Data  \n",
    "\n",
    "Task: Update the price change of \"Protocol A\" to 6.0.\n",
    "\n",
    "\n",
    "Q4: Delete Data  \n",
    "\n",
    "Task: Remove the \"NFT Index\" from market_performance.\n",
    "\n",
    "\n",
    "Q5: Read Nested Data  \n",
    "\n",
    "Task: Display the change in \"DeFi Index\" performance.\n",
    "\n",
    "\n",
    "Q6: Update Nested Data  \n",
    "\n",
    "Task: Change the name of \"NFT Market A\" to \"NFT Market Alpha\".\n",
    "\n",
    "\n",
    "Q7: Add Nested Data  \n",
    "\n",
    "Task: Add a new notable event on \"2024-01-20\" stating \"Partnership\", with the description \"Protocol B partners with major blockchain\".\n",
    "\n",
    "\n",
    "Q8: Delete an Item from a List Inside a Dictionary  \n",
    "\n",
    "Task: Remove the first notable event from the list."
   ]
  },
  {
   "cell_type": "code",
   "execution_count": 105,
   "id": "76c5cd44",
   "metadata": {},
   "outputs": [],
   "source": [
    "blockchain_analysis = {\n",
    "    \"ecosystems\": {\n",
    "        \"DeFi\": {\n",
    "            \"protocols\": [\n",
    "                {\"name\": \"Protocol A\", \"ticker\": \"PDA\", \"price_change\": 5.2},\n",
    "                {\"name\": \"Protocol B\", \"ticker\": \"PDB\", \"price_change\": -3.1}\n",
    "            ]\n",
    "        },\n",
    "        \"NFTs\": {\n",
    "            \"protocols\": [\n",
    "                {\"name\": \"NFT Market A\", \"ticker\": \"NMA\", \"price_change\": 4.0},\n",
    "                {\"name\": \"NFT Market B\", \"ticker\": \"NMB\", \"price_change\": 2.5}\n",
    "            ]\n",
    "        }\n",
    "    },\n",
    "    \"market_performance\": {\n",
    "        \"Crypto Index\": {\"change\": 1.5},\n",
    "        \"DeFi Index\": {\"change\": 2.3},\n",
    "        \"NFT Index\": {\"change\": -1.2}\n",
    "    },\n",
    "    \"notable_events\": [\n",
    "        (\"2024-01-10\", \"Network Upgrade\", \"Ethereum completes sharding upgrade\"),\n",
    "        (\"2024-01-15\", \"Token Launch\", \"Protocol A launches governance token\")\n",
    "    ]\n",
    "}"
   ]
  },
  {
   "cell_type": "markdown",
   "id": "9783e613",
   "metadata": {},
   "source": [
    "### Task 1: Display the price change of \"NFT Market B\""
   ]
  },
  {
   "cell_type": "code",
   "execution_count": 106,
   "id": "ca1e56af",
   "metadata": {},
   "outputs": [
    {
     "data": {
      "text/plain": [
       "2.5"
      ]
     },
     "execution_count": 106,
     "metadata": {},
     "output_type": "execute_result"
    }
   ],
   "source": [
    "# solution\n",
    "\n",
    "blockchain_analysis['ecosystems']['NFTs']['protocols'][1]['price_change']"
   ]
  },
  {
   "cell_type": "markdown",
   "id": "64cdf734",
   "metadata": {},
   "source": [
    "### Task 2: Add a new ecosystem \"Layer 2\" with one protocol \"Layer 2 Protocol A\" having a ticker \"L2A\" and a price change of -2.0."
   ]
  },
  {
   "cell_type": "code",
   "execution_count": 107,
   "id": "2e0bc557",
   "metadata": {},
   "outputs": [],
   "source": [
    "# solution\n",
    "\n",
    "blockchain_analysis['ecosystems'].update({\n",
    "    \"Layer 2\": {\n",
    "            \"protocols\": [\n",
    "                {\"name\": \"Layer 2 Protocol A\", \"ticker\": \"L2A\", \"price_change\": -2.0}\n",
    "            ]\n",
    "        }\n",
    "})"
   ]
  },
  {
   "cell_type": "code",
   "execution_count": 108,
   "id": "c3ed510c",
   "metadata": {},
   "outputs": [
    {
     "data": {
      "text/plain": [
       "{'DeFi': {'protocols': [{'name': 'Protocol A',\n",
       "    'ticker': 'PDA',\n",
       "    'price_change': 5.2},\n",
       "   {'name': 'Protocol B', 'ticker': 'PDB', 'price_change': -3.1}]},\n",
       " 'NFTs': {'protocols': [{'name': 'NFT Market A',\n",
       "    'ticker': 'NMA',\n",
       "    'price_change': 4.0},\n",
       "   {'name': 'NFT Market B', 'ticker': 'NMB', 'price_change': 2.5}]},\n",
       " 'Layer 2': {'protocols': [{'name': 'Layer 2 Protocol A',\n",
       "    'ticker': 'L2A',\n",
       "    'price_change': -2.0}]}}"
      ]
     },
     "execution_count": 108,
     "metadata": {},
     "output_type": "execute_result"
    }
   ],
   "source": [
    "blockchain_analysis['ecosystems']"
   ]
  },
  {
   "cell_type": "markdown",
   "id": "d15329b6",
   "metadata": {},
   "source": [
    "### Task 3: Update the price change of \"Protocol A\" to 6.0."
   ]
  },
  {
   "cell_type": "code",
   "execution_count": 109,
   "id": "84f553ba",
   "metadata": {},
   "outputs": [],
   "source": [
    "# solution\n",
    "\n",
    "blockchain_analysis['ecosystems']['DeFi']['protocols'][0]['price_change'] = 6.0"
   ]
  },
  {
   "cell_type": "code",
   "execution_count": 110,
   "id": "ba039da3",
   "metadata": {},
   "outputs": [
    {
     "data": {
      "text/plain": [
       "{'name': 'Protocol A', 'ticker': 'PDA', 'price_change': 6.0}"
      ]
     },
     "execution_count": 110,
     "metadata": {},
     "output_type": "execute_result"
    }
   ],
   "source": [
    "blockchain_analysis['ecosystems']['DeFi']['protocols'][0]"
   ]
  },
  {
   "cell_type": "markdown",
   "id": "d2802d2b",
   "metadata": {},
   "source": [
    "### Task 4: Remove the \"NFT Index\" from market_performance."
   ]
  },
  {
   "cell_type": "code",
   "execution_count": 111,
   "id": "b6c5af03",
   "metadata": {},
   "outputs": [
    {
     "data": {
      "text/plain": [
       "{'change': -1.2}"
      ]
     },
     "execution_count": 111,
     "metadata": {},
     "output_type": "execute_result"
    }
   ],
   "source": [
    "blockchain_analysis['market_performance'].pop('NFT Index')"
   ]
  },
  {
   "cell_type": "code",
   "execution_count": 112,
   "id": "0eab6900",
   "metadata": {},
   "outputs": [
    {
     "data": {
      "text/plain": [
       "{'Crypto Index': {'change': 1.5}, 'DeFi Index': {'change': 2.3}}"
      ]
     },
     "execution_count": 112,
     "metadata": {},
     "output_type": "execute_result"
    }
   ],
   "source": [
    "blockchain_analysis['market_performance']"
   ]
  },
  {
   "cell_type": "code",
   "execution_count": 113,
   "id": "569e289a",
   "metadata": {},
   "outputs": [
    {
     "data": {
      "text/plain": [
       "{'ecosystems': {'DeFi': {'protocols': [{'name': 'Protocol A',\n",
       "     'ticker': 'PDA',\n",
       "     'price_change': 6.0},\n",
       "    {'name': 'Protocol B', 'ticker': 'PDB', 'price_change': -3.1}]},\n",
       "  'NFTs': {'protocols': [{'name': 'NFT Market A',\n",
       "     'ticker': 'NMA',\n",
       "     'price_change': 4.0},\n",
       "    {'name': 'NFT Market B', 'ticker': 'NMB', 'price_change': 2.5}]},\n",
       "  'Layer 2': {'protocols': [{'name': 'Layer 2 Protocol A',\n",
       "     'ticker': 'L2A',\n",
       "     'price_change': -2.0}]}},\n",
       " 'market_performance': {'Crypto Index': {'change': 1.5},\n",
       "  'DeFi Index': {'change': 2.3}},\n",
       " 'notable_events': [('2024-01-10',\n",
       "   'Network Upgrade',\n",
       "   'Ethereum completes sharding upgrade'),\n",
       "  ('2024-01-15', 'Token Launch', 'Protocol A launches governance token')]}"
      ]
     },
     "execution_count": 113,
     "metadata": {},
     "output_type": "execute_result"
    }
   ],
   "source": [
    "blockchain_analysis"
   ]
  },
  {
   "cell_type": "markdown",
   "id": "1d0de0b8",
   "metadata": {},
   "source": [
    "### Task 5: Display the change in \"DeFi Index\" performance."
   ]
  },
  {
   "cell_type": "code",
   "execution_count": 114,
   "id": "f3b6fc47",
   "metadata": {},
   "outputs": [
    {
     "data": {
      "text/plain": [
       "2.3"
      ]
     },
     "execution_count": 114,
     "metadata": {},
     "output_type": "execute_result"
    }
   ],
   "source": [
    "# solution\n",
    "\n",
    "blockchain_analysis['market_performance']['DeFi Index']['change']"
   ]
  },
  {
   "cell_type": "markdown",
   "id": "0d370f48",
   "metadata": {},
   "source": [
    "### Task 6: Change the name of \"NFT Market A\" to \"NFT Market Alpha\"."
   ]
  },
  {
   "cell_type": "code",
   "execution_count": 115,
   "id": "3ff468c1",
   "metadata": {},
   "outputs": [
    {
     "data": {
      "text/plain": [
       "{'ecosystems': {'DeFi': {'protocols': [{'name': 'Protocol A',\n",
       "     'ticker': 'PDA',\n",
       "     'price_change': 6.0},\n",
       "    {'name': 'Protocol B', 'ticker': 'PDB', 'price_change': -3.1}]},\n",
       "  'NFTs': {'protocols': [{'name': 'NFT Market A',\n",
       "     'ticker': 'NMA',\n",
       "     'price_change': 4.0},\n",
       "    {'name': 'NFT Market B', 'ticker': 'NMB', 'price_change': 2.5}]},\n",
       "  'Layer 2': {'protocols': [{'name': 'Layer 2 Protocol A',\n",
       "     'ticker': 'L2A',\n",
       "     'price_change': -2.0}]}},\n",
       " 'market_performance': {'Crypto Index': {'change': 1.5},\n",
       "  'DeFi Index': {'change': 2.3}},\n",
       " 'notable_events': [('2024-01-10',\n",
       "   'Network Upgrade',\n",
       "   'Ethereum completes sharding upgrade'),\n",
       "  ('2024-01-15', 'Token Launch', 'Protocol A launches governance token')]}"
      ]
     },
     "execution_count": 115,
     "metadata": {},
     "output_type": "execute_result"
    }
   ],
   "source": [
    "blockchain_analysis"
   ]
  },
  {
   "cell_type": "code",
   "execution_count": 116,
   "id": "6f4dfa43",
   "metadata": {},
   "outputs": [],
   "source": [
    "# solution\n",
    "\n",
    "blockchain_analysis['ecosystems']['NFTs']['protocols'][0]['name'] = 'NFT Market Alpha'"
   ]
  },
  {
   "cell_type": "code",
   "execution_count": 117,
   "id": "fa0ca3e7",
   "metadata": {},
   "outputs": [
    {
     "data": {
      "text/plain": [
       "[{'name': 'NFT Market Alpha', 'ticker': 'NMA', 'price_change': 4.0},\n",
       " {'name': 'NFT Market B', 'ticker': 'NMB', 'price_change': 2.5}]"
      ]
     },
     "execution_count": 117,
     "metadata": {},
     "output_type": "execute_result"
    }
   ],
   "source": [
    "blockchain_analysis['ecosystems']['NFTs']['protocols']"
   ]
  },
  {
   "cell_type": "markdown",
   "id": "a97b89f0",
   "metadata": {},
   "source": [
    "### Task 7: Add a new notable event on \"2024-01-20\" stating \"Partnership\", with the description \"Protocol B partners with major blockchain\"."
   ]
  },
  {
   "cell_type": "code",
   "execution_count": 118,
   "id": "1e51b5db",
   "metadata": {},
   "outputs": [
    {
     "data": {
      "text/plain": [
       "{'ecosystems': {'DeFi': {'protocols': [{'name': 'Protocol A',\n",
       "     'ticker': 'PDA',\n",
       "     'price_change': 6.0},\n",
       "    {'name': 'Protocol B', 'ticker': 'PDB', 'price_change': -3.1}]},\n",
       "  'NFTs': {'protocols': [{'name': 'NFT Market Alpha',\n",
       "     'ticker': 'NMA',\n",
       "     'price_change': 4.0},\n",
       "    {'name': 'NFT Market B', 'ticker': 'NMB', 'price_change': 2.5}]},\n",
       "  'Layer 2': {'protocols': [{'name': 'Layer 2 Protocol A',\n",
       "     'ticker': 'L2A',\n",
       "     'price_change': -2.0}]}},\n",
       " 'market_performance': {'Crypto Index': {'change': 1.5},\n",
       "  'DeFi Index': {'change': 2.3}},\n",
       " 'notable_events': [('2024-01-10',\n",
       "   'Network Upgrade',\n",
       "   'Ethereum completes sharding upgrade'),\n",
       "  ('2024-01-15', 'Token Launch', 'Protocol A launches governance token')]}"
      ]
     },
     "execution_count": 118,
     "metadata": {},
     "output_type": "execute_result"
    }
   ],
   "source": [
    "blockchain_analysis"
   ]
  },
  {
   "cell_type": "code",
   "execution_count": 119,
   "id": "4edbe369",
   "metadata": {},
   "outputs": [],
   "source": [
    "# solution\n",
    "\n",
    "blockchain_analysis['notable_events'].append(\n",
    "    ('2024-01-20', 'Partnership', 'Protocol B partners with major blockchain')\n",
    ")"
   ]
  },
  {
   "cell_type": "code",
   "execution_count": 120,
   "id": "7d860aec",
   "metadata": {},
   "outputs": [
    {
     "data": {
      "text/plain": [
       "[('2024-01-10', 'Network Upgrade', 'Ethereum completes sharding upgrade'),\n",
       " ('2024-01-15', 'Token Launch', 'Protocol A launches governance token'),\n",
       " ('2024-01-20', 'Partnership', 'Protocol B partners with major blockchain')]"
      ]
     },
     "execution_count": 120,
     "metadata": {},
     "output_type": "execute_result"
    }
   ],
   "source": [
    "blockchain_analysis['notable_events']"
   ]
  },
  {
   "cell_type": "markdown",
   "id": "7f798e3e",
   "metadata": {},
   "source": [
    "### Task 8: Remove the first notable event from the list."
   ]
  },
  {
   "cell_type": "code",
   "execution_count": 121,
   "id": "d9f15b01",
   "metadata": {},
   "outputs": [
    {
     "data": {
      "text/plain": [
       "[('2024-01-15', 'Token Launch', 'Protocol A launches governance token'),\n",
       " ('2024-01-20', 'Partnership', 'Protocol B partners with major blockchain')]"
      ]
     },
     "execution_count": 121,
     "metadata": {},
     "output_type": "execute_result"
    }
   ],
   "source": [
    "# solution\n",
    "\n",
    "blockchain_analysis['notable_events'].pop(0)\n",
    "\n",
    "blockchain_analysis['notable_events']"
   ]
  },
  {
   "cell_type": "markdown",
   "id": "5122daa0",
   "metadata": {},
   "source": [
    "---"
   ]
  },
  {
   "cell_type": "markdown",
   "id": "c4afc565",
   "metadata": {},
   "source": [
    "# Problem 4: Cryptocurrency Exchange Rates\n",
    "This data structure tracks cryptocurrency exchange rates relative to a base stablecoin.\n",
    "\n",
    "```python\n",
    "crypto_exchange = {\n",
    "    \"base_currency\": \"USDT\",\n",
    "    \"exchange_rates\": {\n",
    "        \"ETH\": {\n",
    "            \"current_rate\": 0.0005,\n",
    "            \"historical_rates\": [\n",
    "                {\"date\": \"2024-01-10\", \"rate\": 0.00048},\n",
    "                {\"date\": \"2024-01-09\", \"rate\": 0.00049}\n",
    "            ]\n",
    "        },\n",
    "        \"BTC\": {\n",
    "            \"current_rate\": 0.000025,\n",
    "            \"historical_rates\": [\n",
    "                {\"date\": \"2024-01-10\", \"rate\": 0.000024},\n",
    "                {\"date\": \"2024-01-09\", \"rate\": 0.000026}\n",
    "            ]\n",
    "        }\n",
    "    }\n",
    "}\n",
    "``` \n",
    "\n",
    "Q1: Read Data  \n",
    "\n",
    "Task: Display the current exchange rate for ETH.\n",
    "\n",
    "\n",
    "Q2: Write Data \n",
    "\n",
    "Task: Add a new currency \"ADA\" with a current rate of 0.0015 and two historical rates: 0.0016 on \"2024-01-10\" and 0.0017 on \"2024-01-09\".\n",
    "\n",
    "\n",
    "Q3: Update Data\n",
    "\n",
    "Task: Update the current exchange rate of BTC to 0.000027.\n",
    "\n",
    "\n",
    "Q4: Delete Data  \n",
    "\n",
    "Task: Remove the historical rates for ETH.\n",
    "\n",
    "\n",
    "Q5: Read Nested Data\n",
    "\n",
    "Task: Display the exchange rate of BTC on \"2024-01-10\".\n",
    "\n",
    "\n",
    "Q6: Update Nested Data \n",
    "\n",
    "Task: Change the rate of ETH on \"2024-01-10\" to 0.00047.\n",
    "\n",
    "\n",
    "Q7: Add Nested Data  \n",
    "\n",
    "Task: Add a new historical rate for BTC on \"2024-01-11\" with a rate of 0.000023.\n",
    "\n",
    "\n",
    "Q8: Delete an Item from a List Inside a Dictionary \n",
    "\n",
    "Task: Remove the historical rate of BTC on \"2024-01-09\"."
   ]
  },
  {
   "cell_type": "code",
   "execution_count": 122,
   "id": "1556d04f",
   "metadata": {},
   "outputs": [],
   "source": [
    "crypto_exchange = {\n",
    "    \"base_currency\": \"USDT\",\n",
    "    \"exchange_rates\": {\n",
    "        \"ETH\": {\n",
    "            \"current_rate\": 0.0005,\n",
    "            \"historical_rates\": [\n",
    "                {\"date\": \"2024-01-10\", \"rate\": 0.00048},\n",
    "                {\"date\": \"2024-01-09\", \"rate\": 0.00049}\n",
    "            ]\n",
    "        },\n",
    "        \"BTC\": {\n",
    "            \"current_rate\": 0.000025,\n",
    "            \"historical_rates\": [\n",
    "                {\"date\": \"2024-01-10\", \"rate\": 0.000024},\n",
    "                {\"date\": \"2024-01-09\", \"rate\": 0.000026}\n",
    "            ]\n",
    "        }\n",
    "    }\n",
    "}"
   ]
  },
  {
   "cell_type": "markdown",
   "id": "490166ca",
   "metadata": {},
   "source": [
    "### Task 1: Display the current exchange rate for ETH."
   ]
  },
  {
   "cell_type": "code",
   "execution_count": 126,
   "id": "a2d43023",
   "metadata": {},
   "outputs": [
    {
     "data": {
      "text/plain": [
       "0.0005"
      ]
     },
     "execution_count": 126,
     "metadata": {},
     "output_type": "execute_result"
    }
   ],
   "source": [
    "# solution\n",
    "\n",
    "crypto_exchange['exchange_rates']['ETH']['current_rate']"
   ]
  },
  {
   "cell_type": "markdown",
   "id": "72c2edd1",
   "metadata": {},
   "source": [
    "### Task 2: Add a new currency \"ADA\" with a current rate of 0.0015 and two historical rates: 0.0016 on \"2024-01-10\" and 0.0017 on \"2024-01-09\"."
   ]
  },
  {
   "cell_type": "code",
   "execution_count": 128,
   "id": "f0664f6e",
   "metadata": {},
   "outputs": [],
   "source": [
    "# solution \n",
    "\n",
    "crypto_exchange['exchange_rates'].update(\n",
    "    {\n",
    "        \"ADA\": {\n",
    "            \"current_rate\": 0.0015,\n",
    "            \"historical_rates\": [\n",
    "                {\"date\": \"2024-01-10\", \"rate\": 0.0016},\n",
    "                {\"date\": \"2024-01-09\", \"rate\": 0.0017}\n",
    "            ]\n",
    "        }\n",
    "    }\n",
    ")"
   ]
  },
  {
   "cell_type": "code",
   "execution_count": 129,
   "id": "f47923e7",
   "metadata": {},
   "outputs": [
    {
     "data": {
      "text/plain": [
       "{'ETH': {'current_rate': 0.0005,\n",
       "  'historical_rates': [{'date': '2024-01-10', 'rate': 0.00048},\n",
       "   {'date': '2024-01-09', 'rate': 0.00049}]},\n",
       " 'BTC': {'current_rate': 2.5e-05,\n",
       "  'historical_rates': [{'date': '2024-01-10', 'rate': 2.4e-05},\n",
       "   {'date': '2024-01-09', 'rate': 2.6e-05}]},\n",
       " 'ADA': {'current_rate': 0.0015,\n",
       "  'historical_rates': [{'date': '2024-01-10', 'rate': 0.0016},\n",
       "   {'date': '2024-01-09', 'rate': 0.0017}]}}"
      ]
     },
     "execution_count": 129,
     "metadata": {},
     "output_type": "execute_result"
    }
   ],
   "source": [
    "crypto_exchange['exchange_rates']"
   ]
  },
  {
   "cell_type": "markdown",
   "id": "5a4613bb",
   "metadata": {},
   "source": [
    "### Task 3: Update the current exchange rate of BTC to 0.000027."
   ]
  },
  {
   "cell_type": "code",
   "execution_count": 133,
   "id": "a2a0e23d",
   "metadata": {},
   "outputs": [],
   "source": [
    "# solution\n",
    "\n",
    "crypto_exchange['exchange_rates']['BTC']['current_rate'] = 2.7e-05"
   ]
  },
  {
   "cell_type": "code",
   "execution_count": 134,
   "id": "dd4446ab",
   "metadata": {},
   "outputs": [
    {
     "data": {
      "text/plain": [
       "{'current_rate': 2.7e-05,\n",
       " 'historical_rates': [{'date': '2024-01-10', 'rate': 2.4e-05},\n",
       "  {'date': '2024-01-09', 'rate': 2.6e-05}]}"
      ]
     },
     "execution_count": 134,
     "metadata": {},
     "output_type": "execute_result"
    }
   ],
   "source": [
    "crypto_exchange['exchange_rates']['BTC']"
   ]
  },
  {
   "cell_type": "markdown",
   "id": "a4b911dd",
   "metadata": {},
   "source": [
    "### Task 4: Remove the historical rates for ETH."
   ]
  },
  {
   "cell_type": "code",
   "execution_count": null,
   "id": "b6120b03",
   "metadata": {},
   "outputs": [],
   "source": [
    "# solution\n",
    "\n",
    "crypto_exchange['exchange_rates']['ETH']['historical_rates'] = None"
   ]
  },
  {
   "cell_type": "code",
   "execution_count": 142,
   "id": "019ca209",
   "metadata": {},
   "outputs": [
    {
     "data": {
      "text/plain": [
       "{'ETH': {'current_rate': 0.0005, 'historical_rates': None},\n",
       " 'BTC': {'current_rate': 2.7e-05,\n",
       "  'historical_rates': [{'date': '2024-01-10', 'rate': 2.4e-05},\n",
       "   {'date': '2024-01-09', 'rate': 2.6e-05}]},\n",
       " 'ADA': {'current_rate': 0.0015,\n",
       "  'historical_rates': [{'date': '2024-01-10', 'rate': 0.0016},\n",
       "   {'date': '2024-01-09', 'rate': 0.0017}]}}"
      ]
     },
     "execution_count": 142,
     "metadata": {},
     "output_type": "execute_result"
    }
   ],
   "source": [
    "crypto_exchange['exchange_rates']"
   ]
  },
  {
   "cell_type": "markdown",
   "id": "5b813244",
   "metadata": {},
   "source": [
    "### Task 5: Display the exchange rate of BTC on \"2024-01-10\"."
   ]
  },
  {
   "cell_type": "code",
   "execution_count": 147,
   "id": "fed551ea",
   "metadata": {},
   "outputs": [
    {
     "data": {
      "text/plain": [
       "2.4e-05"
      ]
     },
     "execution_count": 147,
     "metadata": {},
     "output_type": "execute_result"
    }
   ],
   "source": [
    "# solution \n",
    "\n",
    "crypto_exchange['exchange_rates']['BTC']['historical_rates'][0]['rate']"
   ]
  },
  {
   "cell_type": "markdown",
   "id": "b9772607",
   "metadata": {},
   "source": [
    "### Task 6: Change the rate of ETH on \"2024-01-10\" to 0.00047."
   ]
  },
  {
   "cell_type": "code",
   "execution_count": 151,
   "id": "e03d605b",
   "metadata": {},
   "outputs": [],
   "source": [
    "# solution\n",
    "\n",
    "crypto_exchange['exchange_rates']['ETH']['historical_rates'] = [{'date': '2024-01-10', 'rate': 0.00047}]"
   ]
  },
  {
   "cell_type": "code",
   "execution_count": 153,
   "id": "0fb62a0a",
   "metadata": {},
   "outputs": [
    {
     "data": {
      "text/plain": [
       "{'ETH': {'current_rate': 0.0005,\n",
       "  'historical_rates': [{'date': '2024-01-10', 'rate': 0.00047}]},\n",
       " 'BTC': {'current_rate': 2.7e-05,\n",
       "  'historical_rates': [{'date': '2024-01-10', 'rate': 2.4e-05},\n",
       "   {'date': '2024-01-09', 'rate': 2.6e-05}]},\n",
       " 'ADA': {'current_rate': 0.0015,\n",
       "  'historical_rates': [{'date': '2024-01-10', 'rate': 0.0016},\n",
       "   {'date': '2024-01-09', 'rate': 0.0017}]}}"
      ]
     },
     "execution_count": 153,
     "metadata": {},
     "output_type": "execute_result"
    }
   ],
   "source": [
    "crypto_exchange['exchange_rates']"
   ]
  },
  {
   "cell_type": "markdown",
   "id": "5fadaa00",
   "metadata": {},
   "source": [
    "### Task 7: Add a new historical rate for BTC on \"2024-01-11\" with a rate of 0.000023."
   ]
  },
  {
   "cell_type": "code",
   "execution_count": 159,
   "id": "e63c9717",
   "metadata": {},
   "outputs": [],
   "source": [
    "# solution\n",
    "\n",
    "crypto_exchange['exchange_rates']['BTC']['historical_rates'].insert(0, {'date':'2024-01-11', 'rate':'2.3e-05'})"
   ]
  },
  {
   "cell_type": "code",
   "execution_count": 160,
   "id": "642f70d3",
   "metadata": {},
   "outputs": [
    {
     "data": {
      "text/plain": [
       "[{'date': '2024-01-11', 'rate': '2.3e-05'},\n",
       " {'date': '2024-01-10', 'rate': 2.4e-05},\n",
       " {'date': '2024-01-09', 'rate': 2.6e-05}]"
      ]
     },
     "execution_count": 160,
     "metadata": {},
     "output_type": "execute_result"
    }
   ],
   "source": [
    "crypto_exchange['exchange_rates']['BTC']['historical_rates']"
   ]
  },
  {
   "cell_type": "markdown",
   "id": "695efbeb",
   "metadata": {},
   "source": [
    "### Task 8: Remove the historical rate of BTC on \"2024-01-09\"."
   ]
  },
  {
   "cell_type": "code",
   "execution_count": null,
   "id": "a664954e",
   "metadata": {},
   "outputs": [
    {
     "data": {
      "text/plain": [
       "{'date': '2024-01-09', 'rate': 2.6e-05}"
      ]
     },
     "execution_count": 161,
     "metadata": {},
     "output_type": "execute_result"
    }
   ],
   "source": [
    "# solution\n",
    "\n",
    "crypto_exchange['exchange_rates']['BTC']['historical_rates'].pop(2)"
   ]
  },
  {
   "cell_type": "code",
   "execution_count": 162,
   "id": "acc306b9",
   "metadata": {},
   "outputs": [
    {
     "data": {
      "text/plain": [
       "[{'date': '2024-01-11', 'rate': '2.3e-05'},\n",
       " {'date': '2024-01-10', 'rate': 2.4e-05}]"
      ]
     },
     "execution_count": 162,
     "metadata": {},
     "output_type": "execute_result"
    }
   ],
   "source": [
    "crypto_exchange['exchange_rates']['BTC']['historical_rates']"
   ]
  },
  {
   "cell_type": "markdown",
   "id": "4e0a30fd",
   "metadata": {},
   "source": [
    "---"
   ]
  },
  {
   "cell_type": "markdown",
   "id": "79d149c9",
   "metadata": {},
   "source": [
    "# Problem 5: Crypto Credit Risk Assessment\n",
    "This data structure assesses the credit risk of individuals based on their crypto-related financial profiles.\n",
    "\n",
    "```python\n",
    "crypto_risk_profiles = {\n",
    "    \"individuals\": [\n",
    "        {\n",
    "            \"name\": \"John Doe\",\n",
    "            \"defi_score\": 750,\n",
    "            \"staked_assets\": {\n",
    "                \"eth_staking\": {\"amount\": 10, \"apy\": 3.5},\n",
    "                \"dot_staking\": {\"amount\": 1000, \"apy\": 2.8}\n",
    "            },\n",
    "            \"transaction_history\": [(\"2024-01-10\", \"Confirmed\"), (\"2024-01-01\", \"Delayed\")]\n",
    "        },\n",
    "        {\n",
    "            \"name\": \"Jane Smith\",\n",
    "            \"defi_score\": 680,\n",
    "            \"staked_assets\": {\n",
    "                \"usdc_lending\": {\"amount\": 5000, \"apy\": 5.0}\n",
    "            },\n",
    "            \"transaction_history\": [(\"2024-01-10\", \"Confirmed\")]\n",
    "        }\n",
    "    ]\n",
    "}\n",
    "```\n",
    "\n",
    "Q1: Read Data  \n",
    "\n",
    "Task: Display the APY for John Doe's DOT staking.\n",
    "\n",
    "\n",
    "Q2: Write Data\n",
    "\n",
    "Task: Add a new individual \"Alice Johnson\" with a DeFi score of 720, no staked assets, and no transaction history.\n",
    "\n",
    "\n",
    "Q3: Update Data  \n",
    "\n",
    "Task: Update Jane Smith's DeFi score to 700.\n",
    "\n",
    "\n",
    "Q4: Delete Data  \n",
    "\n",
    "Task: Remove the ETH staking entry from John Doe's staked assets.\n",
    "\n",
    "\n",
    "Q5: Read Nested Data  \n",
    "\n",
    "Task: Display the latest transaction status of John Doe.\n",
    "\n",
    "\n",
    "Q6: Update Nested Data  \n",
    "\n",
    "Task: Change the amount of Jane Smith's USDC lending to 5500.\n",
    "\n",
    "\n",
    "Q7: Add Nested Data  \n",
    "\n",
    "Task: Add a new transaction history entry for John Doe on \"2024-01-15\" marked as \"Confirmed\".\n",
    "\n",
    "\n",
    "Q8: Delete an Item from a List Inside a Dictionary  \n",
    "\n",
    "Task: Remove the first transaction history entry of Jane Smith."
   ]
  },
  {
   "cell_type": "code",
   "execution_count": 163,
   "id": "aed78cd6",
   "metadata": {},
   "outputs": [],
   "source": [
    "crypto_risk_profiles = {\n",
    "    \"individuals\": [\n",
    "        {\n",
    "            \"name\": \"John Doe\",\n",
    "            \"defi_score\": 750,\n",
    "            \"staked_assets\": {\n",
    "                \"eth_staking\": {\"amount\": 10, \"apy\": 3.5},\n",
    "                \"dot_staking\": {\"amount\": 1000, \"apy\": 2.8}\n",
    "            },\n",
    "            \"transaction_history\": [(\"2024-01-10\", \"Confirmed\"), (\"2024-01-01\", \"Delayed\")]\n",
    "        },\n",
    "        {\n",
    "            \"name\": \"Jane Smith\",\n",
    "            \"defi_score\": 680,\n",
    "            \"staked_assets\": {\n",
    "                \"usdc_lending\": {\"amount\": 5000, \"apy\": 5.0}\n",
    "            },\n",
    "            \"transaction_history\": [(\"2024-01-10\", \"Confirmed\")]\n",
    "        }\n",
    "    ]\n",
    "}"
   ]
  },
  {
   "cell_type": "markdown",
   "id": "9a06f67e",
   "metadata": {},
   "source": [
    "### Task 1: Display the APY for John Doe's DOT staking."
   ]
  },
  {
   "cell_type": "code",
   "execution_count": 168,
   "id": "c0fcce66",
   "metadata": {},
   "outputs": [
    {
     "data": {
      "text/plain": [
       "2.8"
      ]
     },
     "execution_count": 168,
     "metadata": {},
     "output_type": "execute_result"
    }
   ],
   "source": [
    "# solution\n",
    "\n",
    "crypto_risk_profiles['individuals'][0]['staked_assets']['dot_staking']['apy']"
   ]
  },
  {
   "cell_type": "markdown",
   "id": "6c9251e2",
   "metadata": {},
   "source": [
    "### Task 2: Add a new individual \"Alice Johnson\" with a DeFi score of 720, no staked assets, and no transaction history."
   ]
  },
  {
   "cell_type": "code",
   "execution_count": 170,
   "id": "29ed6544",
   "metadata": {},
   "outputs": [
    {
     "data": {
      "text/plain": [
       "[{'name': 'John Doe',\n",
       "  'defi_score': 750,\n",
       "  'staked_assets': {'eth_staking': {'amount': 10, 'apy': 3.5},\n",
       "   'dot_staking': {'amount': 1000, 'apy': 2.8}},\n",
       "  'transaction_history': [('2024-01-10', 'Confirmed'),\n",
       "   ('2024-01-01', 'Delayed')]},\n",
       " {'name': 'Jane Smith',\n",
       "  'defi_score': 680,\n",
       "  'staked_assets': {'usdc_lending': {'amount': 5000, 'apy': 5.0}},\n",
       "  'transaction_history': [('2024-01-10', 'Confirmed')]},\n",
       " {'name': 'Alice Johnson',\n",
       "  'defi_score': 720,\n",
       "  'staked_assets': None,\n",
       "  'transaction_history': None}]"
      ]
     },
     "execution_count": 170,
     "metadata": {},
     "output_type": "execute_result"
    }
   ],
   "source": [
    "# solution\n",
    "\n",
    "crypto_risk_profiles['individuals'].append(\n",
    "    {\n",
    "            \"name\": \"Alice Johnson\",\n",
    "            \"defi_score\": 720,\n",
    "            \"staked_assets\": None,\n",
    "            \"transaction_history\": None\n",
    "        }\n",
    ")\n",
    "\n",
    "crypto_risk_profiles['individuals']"
   ]
  },
  {
   "cell_type": "markdown",
   "id": "cd67100b",
   "metadata": {},
   "source": [
    "### Task 3: Update Jane Smith's DeFi score to 700."
   ]
  },
  {
   "cell_type": "code",
   "execution_count": 175,
   "id": "39083f2c",
   "metadata": {},
   "outputs": [
    {
     "data": {
      "text/plain": [
       "{'name': 'Jane Smith',\n",
       " 'defi_score': 700,\n",
       " 'staked_assets': {'usdc_lending': {'amount': 5000, 'apy': 5.0}},\n",
       " 'transaction_history': [('2024-01-10', 'Confirmed')]}"
      ]
     },
     "execution_count": 175,
     "metadata": {},
     "output_type": "execute_result"
    }
   ],
   "source": [
    "# solution\n",
    "\n",
    "crypto_risk_profiles['individuals'][1]['defi_score'] = 700\n",
    "\n",
    "crypto_risk_profiles['individuals'][1]"
   ]
  },
  {
   "cell_type": "markdown",
   "id": "6812a452",
   "metadata": {},
   "source": [
    "### Task 4: Remove the ETH staking entry from John Doe's staked assets."
   ]
  },
  {
   "cell_type": "code",
   "execution_count": 177,
   "id": "408a12bc",
   "metadata": {},
   "outputs": [
    {
     "data": {
      "text/plain": [
       "{'name': 'John Doe',\n",
       " 'defi_score': 750,\n",
       " 'staked_assets': {'eth_staking': {'amount': 10, 'apy': 3.5},\n",
       "  'dot_staking': {'amount': 1000, 'apy': 2.8}},\n",
       " 'transaction_history': [('2024-01-10', 'Confirmed'),\n",
       "  ('2024-01-01', 'Delayed')]}"
      ]
     },
     "execution_count": 177,
     "metadata": {},
     "output_type": "execute_result"
    }
   ],
   "source": [
    "crypto_risk_profiles['individuals'][0]"
   ]
  },
  {
   "cell_type": "code",
   "execution_count": 180,
   "id": "49149ca9",
   "metadata": {},
   "outputs": [
    {
     "data": {
      "text/plain": [
       "{'name': 'John Doe',\n",
       " 'defi_score': 750,\n",
       " 'staked_assets': {'eth_staking': None,\n",
       "  'dot_staking': {'amount': 1000, 'apy': 2.8}},\n",
       " 'transaction_history': [('2024-01-10', 'Confirmed'),\n",
       "  ('2024-01-01', 'Delayed')]}"
      ]
     },
     "execution_count": 180,
     "metadata": {},
     "output_type": "execute_result"
    }
   ],
   "source": [
    "# solution\n",
    "\n",
    "crypto_risk_profiles['individuals'][0]['staked_assets']['eth_staking'] = None\n",
    "\n",
    "crypto_risk_profiles['individuals'][0]"
   ]
  },
  {
   "cell_type": "markdown",
   "id": "b97999bc",
   "metadata": {},
   "source": [
    "### Task 5: Display the latest transaction status of John Doe."
   ]
  },
  {
   "cell_type": "code",
   "execution_count": 205,
   "id": "a414596b",
   "metadata": {},
   "outputs": [
    {
     "name": "stdout",
     "output_type": "stream",
     "text": [
      "The lastest transaction status of John Doe was confirmed, which took place on 2024-01-10.\n"
     ]
    }
   ],
   "source": [
    "# solution\n",
    "\n",
    "date = crypto_risk_profiles['individuals'][0]['transaction_history'][0][0]\n",
    "status = crypto_risk_profiles['individuals'][0]['transaction_history'][0][1].lower()\n",
    "\n",
    "print(f'The lastest transaction status of John Doe was {status}, which took place on {date}.')"
   ]
  },
  {
   "cell_type": "markdown",
   "id": "fbff37ab",
   "metadata": {},
   "source": [
    "### Task 6: Change the amount of Jane Smith's USDC lending to 5500."
   ]
  },
  {
   "cell_type": "code",
   "execution_count": 207,
   "id": "efbe2193",
   "metadata": {},
   "outputs": [
    {
     "data": {
      "text/plain": [
       "{'name': 'Jane Smith',\n",
       " 'defi_score': 700,\n",
       " 'staked_assets': {'usdc_lending': {'amount': 5000, 'apy': 5.0}},\n",
       " 'transaction_history': [('2024-01-10', 'Confirmed')]}"
      ]
     },
     "execution_count": 207,
     "metadata": {},
     "output_type": "execute_result"
    }
   ],
   "source": [
    "crypto_risk_profiles['individuals'][1]"
   ]
  },
  {
   "cell_type": "code",
   "execution_count": 212,
   "id": "aadbee66",
   "metadata": {},
   "outputs": [
    {
     "data": {
      "text/plain": [
       "{'name': 'Jane Smith',\n",
       " 'defi_score': 700,\n",
       " 'staked_assets': {'usdc_lending': {'amount': 5500, 'apy': 5.0}},\n",
       " 'transaction_history': [('2024-01-10', 'Confirmed')]}"
      ]
     },
     "execution_count": 212,
     "metadata": {},
     "output_type": "execute_result"
    }
   ],
   "source": [
    "# solution\n",
    "\n",
    "crypto_risk_profiles['individuals'][1]['staked_assets']['usdc_lending']['amount'] = 5500\n",
    "\n",
    "crypto_risk_profiles['individuals'][1]"
   ]
  },
  {
   "cell_type": "markdown",
   "id": "39737471",
   "metadata": {},
   "source": [
    "### Task 7: Add a new transaction history entry for John Doe on \"2024-01-15\" marked as \"Confirmed\"."
   ]
  },
  {
   "cell_type": "code",
   "execution_count": 213,
   "id": "c117e25d",
   "metadata": {},
   "outputs": [
    {
     "data": {
      "text/plain": [
       "{'name': 'John Doe',\n",
       " 'defi_score': 750,\n",
       " 'staked_assets': {'eth_staking': None,\n",
       "  'dot_staking': {'amount': 1000, 'apy': 2.8}},\n",
       " 'transaction_history': [('2024-01-10', 'Confirmed'),\n",
       "  ('2024-01-01', 'Delayed')]}"
      ]
     },
     "execution_count": 213,
     "metadata": {},
     "output_type": "execute_result"
    }
   ],
   "source": [
    "crypto_risk_profiles['individuals'][0]"
   ]
  },
  {
   "cell_type": "code",
   "execution_count": 215,
   "id": "d6a2d012",
   "metadata": {},
   "outputs": [
    {
     "data": {
      "text/plain": [
       "{'name': 'John Doe',\n",
       " 'defi_score': 750,\n",
       " 'staked_assets': {'eth_staking': None,\n",
       "  'dot_staking': {'amount': 1000, 'apy': 2.8}},\n",
       " 'transaction_history': [('2024-01-15', 'Confirmed'),\n",
       "  ('2024-01-10', 'Confirmed'),\n",
       "  ('2024-01-01', 'Delayed')]}"
      ]
     },
     "execution_count": 215,
     "metadata": {},
     "output_type": "execute_result"
    }
   ],
   "source": [
    "crypto_risk_profiles['individuals'][0]['transaction_history'].insert(0, ('2024-01-15', 'Confirmed'))\n",
    "\n",
    "crypto_risk_profiles['individuals'][0]"
   ]
  },
  {
   "cell_type": "markdown",
   "id": "e639ee08",
   "metadata": {},
   "source": [
    "### Task 8: Remove the first transaction history entry of Jane Smith."
   ]
  },
  {
   "cell_type": "code",
   "execution_count": 218,
   "id": "60a6f62a",
   "metadata": {},
   "outputs": [
    {
     "data": {
      "text/plain": [
       "{'name': 'Jane Smith',\n",
       " 'defi_score': 700,\n",
       " 'staked_assets': {'usdc_lending': {'amount': 5500, 'apy': 5.0}},\n",
       " 'transaction_history': None}"
      ]
     },
     "execution_count": 218,
     "metadata": {},
     "output_type": "execute_result"
    }
   ],
   "source": [
    "crypto_risk_profiles['individuals'][1]['transaction_history'] = None\n",
    "\n",
    "crypto_risk_profiles['individuals'][1]"
   ]
  },
  {
   "cell_type": "markdown",
   "id": "d0f5d9e4",
   "metadata": {},
   "source": [
    "---"
   ]
  },
  {
   "cell_type": "markdown",
   "id": "325819d7",
   "metadata": {},
   "source": [
    "# Problem 6: Crypto Hedge Fund Portfolio\n",
    "This data structure represents a crypto hedge fund’s investment portfolio, detailing various types of crypto investments and their performance.\n",
    "\n",
    "```python\n",
    "crypto_hedge_fund = {\n",
    "    \"fund_name\": \"Alpha Crypto Investments\",\n",
    "    \"portfolio_value_usd\": 50000000,\n",
    "    \"investments\": [\n",
    "        {\n",
    "            \"type\": \"Tokens\",\n",
    "            \"holdings\": [\n",
    "                {\"ticker\": \"ETH\", \"quantity\": 10000, \"average_buy_price\": 2000},\n",
    "                {\"ticker\": \"SOL\", \"quantity\": 50000, \"average_buy_price\": 100}\n",
    "            ]\n",
    "        },\n",
    "        {\n",
    "            \"type\": \"Stablecoins\",\n",
    "            \"holdings\": [\n",
    "                {\"coin\": \"USDT\", \"amount\": 10000000, \"apy\": 1.5}\n",
    "            ]\n",
    "        },\n",
    "        {\n",
    "            \"type\": \"Derivatives\",\n",
    "            \"holdings\": [\n",
    "                {\"instrument\": \"Futures\", \"details\": {\"underlying\": \"BTC\", \"type\": \"Perpetual\", \"leverage\": 10}}\n",
    "            ]\n",
    "        }\n",
    "    ],\n",
    "    \"performance_metrics\": {\n",
    "        \"year_to_date_return\": 5.2,\n",
    "        \"five_year_annualized_return\": 7.1\n",
    "    }\n",
    "}\n",
    "```\n",
    "\n",
    "Q1: Read Data\n",
    "\n",
    "Task: Display the quantity of \"SOL\" tokens held in the portfolio.\n",
    "\n",
    "\n",
    "Q2: Write Data  \n",
    "\n",
    "Task: Add a new investment type \"NFTs\" with one holding of an NFT \"CryptoPunk 456\" valued at 2000000.\n",
    "\n",
    "\n",
    "Q3: Update Data  \n",
    "\n",
    "Task: Update the portfolio value to 51000000.\n",
    "\n",
    "\n",
    "Q4: Delete Data  \n",
    "\n",
    "Task: Remove the \"Derivatives\" investment from the portfolio.\n",
    "\n",
    "\n",
    "Q5: Read Nested Data  \n",
    "\n",
    "Task: Display the APY of the \"USDT\" stablecoin.\n",
    "\n",
    "\n",
    "Q6: Update Nested Data  \n",
    "\n",
    "Task: Change the average buy price of \"ETH\" tokens to 2100.\n",
    "\n",
    "\n",
    "Q7: Add Nested Data  \n",
    "\n",
    "Task: Add a new token holding for \"ADA\" with a quantity of 100000 and an average buy price of 1.5.\n",
    "\n",
    "\n",
    "Q8: Delete an Item from a List Inside a Dictionary  \n",
    "\n",
    "Task: Remove the first holding (ETH) under the \"Tokens\" type."
   ]
  },
  {
   "cell_type": "code",
   "execution_count": 219,
   "id": "c415fd3e",
   "metadata": {},
   "outputs": [],
   "source": [
    "crypto_hedge_fund = {\n",
    "    \"fund_name\": \"Alpha Crypto Investments\",\n",
    "    \"portfolio_value_usd\": 50000000,\n",
    "    \"investments\": [\n",
    "        {\n",
    "            \"type\": \"Tokens\",\n",
    "            \"holdings\": [\n",
    "                {\"ticker\": \"ETH\", \"quantity\": 10000, \"average_buy_price\": 2000},\n",
    "                {\"ticker\": \"SOL\", \"quantity\": 50000, \"average_buy_price\": 100}\n",
    "            ]\n",
    "        },\n",
    "        {\n",
    "            \"type\": \"Stablecoins\",\n",
    "            \"holdings\": [\n",
    "                {\"coin\": \"USDT\", \"amount\": 10000000, \"apy\": 1.5}\n",
    "            ]\n",
    "        },\n",
    "        {\n",
    "            \"type\": \"Derivatives\",\n",
    "            \"holdings\": [\n",
    "                {\"instrument\": \"Futures\", \"details\": {\"underlying\": \"BTC\", \"type\": \"Perpetual\", \"leverage\": 10}}\n",
    "            ]\n",
    "        }\n",
    "    ],\n",
    "    \"performance_metrics\": {\n",
    "        \"year_to_date_return\": 5.2,\n",
    "        \"five_year_annualized_return\": 7.1\n",
    "    }\n",
    "}"
   ]
  },
  {
   "cell_type": "markdown",
   "id": "a961b725",
   "metadata": {},
   "source": [
    "### Task 1: Display the quantity of \"SOL\" tokens held in the portfolio."
   ]
  },
  {
   "cell_type": "code",
   "execution_count": null,
   "id": "c6680b53",
   "metadata": {},
   "outputs": [],
   "source": []
  }
 ],
 "metadata": {
  "kernelspec": {
   "display_name": "python_problem1",
   "language": "python",
   "name": "python3"
  },
  "language_info": {
   "codemirror_mode": {
    "name": "ipython",
    "version": 3
   },
   "file_extension": ".py",
   "mimetype": "text/x-python",
   "name": "python",
   "nbconvert_exporter": "python",
   "pygments_lexer": "ipython3",
   "version": "3.10.11"
  }
 },
 "nbformat": 4,
 "nbformat_minor": 5
}
