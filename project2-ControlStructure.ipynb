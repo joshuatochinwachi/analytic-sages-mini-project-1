{
 "cells": [
  {
   "cell_type": "markdown",
   "id": "49b9e007",
   "metadata": {},
   "source": [
    "# **Python problem for Control Structure**\n",
    "\n",
    "---\n",
    "\n",
    "### **LOOPS (Iteration-based problems)**\n",
    "\n",
    "1. **Daily Gas Fee Average**  \n",
    "    *Description:* Calculate the average gas fee from a list of daily Ethereum gas fees.  \n",
    "    *Input:* List of gas fees (e.g., \\[30, 40, 35, 50, 45\\])  \n",
    "    *Output:* Average gas fee (e.g., 40.0)"
   ]
  },
  {
   "cell_type": "code",
   "execution_count": 20,
   "id": "eeb33c26",
   "metadata": {},
   "outputs": [
    {
     "name": "stdout",
     "output_type": "stream",
     "text": [
      "40.0\n"
     ]
    }
   ],
   "source": [
    "# for loop\n",
    "\n",
    "gas_fees = [30, 40, 35, 50, 45]\n",
    "\n",
    "total = 0\n",
    "\n",
    "for fee in gas_fees:\n",
    "    total += fee\n",
    "    \n",
    "# print(total)\n",
    "\n",
    "\n",
    "num = len(gas_fees)\n",
    "\n",
    "\n",
    "average = total / num\n",
    "\n",
    "print(average)"
   ]
  },
  {
   "cell_type": "code",
   "execution_count": 21,
   "id": "b27db8c4",
   "metadata": {},
   "outputs": [
    {
     "name": "stdout",
     "output_type": "stream",
     "text": [
      "40.0\n"
     ]
    }
   ],
   "source": [
    "# while loop\n",
    "\n",
    "gas_fees = [30, 40, 35, 50, 45]\n",
    "\n",
    "total = 0\n",
    "i = 0\n",
    "\n",
    "while i < len(gas_fees):\n",
    "    total += gas_fees[i]\n",
    "    i += 1\n",
    "\n",
    "num = len(gas_fees)\n",
    "average = total / num\n",
    "\n",
    "print(average)"
   ]
  },
  {
   "cell_type": "markdown",
   "id": "75667d70",
   "metadata": {},
   "source": [
    "2. **Highest Daily Transaction Count**  \n",
    "    *Description:* Find the day with the highest number of transactions on a blockchain.  \n",
    "    *Input:* List of daily transaction counts (e.g., \\[1200, 1400, 1350, 1600, 1100\\])  \n",
    "    *Output:* Day with the highest transaction count (e.g., Day 4\\)"
   ]
  },
  {
   "cell_type": "code",
   "execution_count": 25,
   "id": "dc556ef2",
   "metadata": {},
   "outputs": [
    {
     "name": "stdout",
     "output_type": "stream",
     "text": [
      "Day 4\n"
     ]
    }
   ],
   "source": [
    "# for loop\n",
    "\n",
    "daily_tx_count = [1200, 1400, 1350, 1600, 1100]\n",
    "\n",
    "highest_tx = max(daily_tx_count)\n",
    "\n",
    "day = 0\n",
    "\n",
    "for x in daily_tx_count:\n",
    "    day += 1\n",
    "    if x == highest_tx:\n",
    "        break\n",
    "\n",
    "        # print(f\"Day {day} had the highest transaction count: {highest_tx}\")\n",
    "# print(f\"Day {day} had {x} transactions\")\n",
    "print(f'Day {day}')\n"
   ]
  },
  {
   "cell_type": "code",
   "execution_count": 26,
   "id": "d21750db",
   "metadata": {},
   "outputs": [
    {
     "name": "stdout",
     "output_type": "stream",
     "text": [
      "Day 4\n"
     ]
    }
   ],
   "source": [
    "# while loop\n",
    "\n",
    "daily_tx_count = [1200, 1400, 1350, 1600, 1100]\n",
    "\n",
    "highest_tx = max(daily_tx_count)\n",
    "\n",
    "day = 0\n",
    "i = 0\n",
    "\n",
    "while i < len(daily_tx_count):\n",
    "    day += 1\n",
    "    if daily_tx_count[i] == highest_tx:\n",
    "        break\n",
    "    i += 1\n",
    "\n",
    "print(f'Day {day}')\n"
   ]
  },
  {
   "cell_type": "markdown",
   "id": "f603cd7c",
   "metadata": {},
   "source": [
    "3. **Find Token Min/Max Price**  \n",
    "    *Description:* Determine the lowest and highest price of a token over a week.  \n",
    "    *Input:* List of prices (e.g., \\[2.1, 2.5, 2.0, 2.8, 2.6\\])  \n",
    "    *Output:* Min: 2.0, Max: 2.8"
   ]
  },
  {
   "cell_type": "code",
   "execution_count": 23,
   "id": "47d832c9",
   "metadata": {},
   "outputs": [
    {
     "name": "stdout",
     "output_type": "stream",
     "text": [
      "Min: 2.0, Max: 2.8\n"
     ]
    }
   ],
   "source": [
    "# for loop\n",
    "\n",
    "prices = [2.1, 2.5, 2.0, 2.8, 2.6]\n",
    "\n",
    "\n",
    "min_price = prices[0]\n",
    "max_price = prices[0]\n",
    "\n",
    "\n",
    "for price in prices:\n",
    "    if price < min_price:\n",
    "        min_price = price\n",
    "    if price > max_price:\n",
    "        max_price = price\n",
    "\n",
    "print(\"Min:\", str(min_price) + \",\", \"Max:\", max_price)"
   ]
  },
  {
   "cell_type": "code",
   "execution_count": 22,
   "id": "409deb2a",
   "metadata": {},
   "outputs": [
    {
     "name": "stdout",
     "output_type": "stream",
     "text": [
      "Min: 2.0, Max: 2.8\n"
     ]
    }
   ],
   "source": [
    "# while loop\n",
    "\n",
    "prices = [2.1, 2.5, 2.0, 2.8, 2.6]\n",
    "\n",
    "\n",
    "min_price = prices[0]\n",
    "max_price = prices[0]\n",
    "\n",
    "\n",
    "i = 0\n",
    "\n",
    "\n",
    "while i < len(prices):\n",
    "    price = prices[i]\n",
    "    if price < min_price:\n",
    "        min_price = price\n",
    "    if price > max_price:\n",
    "        max_price = price\n",
    "    i += 1\n",
    "\n",
    "print(\"Min:\", str(min_price) + \",\", \"Max:\", max_price)"
   ]
  },
  {
   "cell_type": "markdown",
   "id": "fc8dfe22",
   "metadata": {},
   "source": []
  },
  {
   "cell_type": "markdown",
   "id": "f073c2db",
   "metadata": {},
   "source": []
  },
  {
   "cell_type": "markdown",
   "id": "c7c2d7b2",
   "metadata": {},
   "source": []
  },
  {
   "cell_type": "markdown",
   "id": "d63e0d9e",
   "metadata": {},
   "source": [
    "### Just playing around with `for` and `while` loops"
   ]
  },
  {
   "cell_type": "code",
   "execution_count": 27,
   "id": "229245fe",
   "metadata": {},
   "outputs": [
    {
     "name": "stdout",
     "output_type": "stream",
     "text": [
      "0\n",
      "1\n",
      "2\n",
      "3\n",
      "4\n",
      "5\n",
      "6\n",
      "7\n",
      "8\n",
      "9\n",
      "10\n",
      "----------\n",
      "0\n",
      "1\n",
      "2\n",
      "3\n",
      "4\n",
      "5\n",
      "6\n",
      "7\n",
      "8\n",
      "9\n",
      "10\n"
     ]
    }
   ],
   "source": [
    "for i in range(11):\n",
    "    print(i)  \n",
    "\n",
    "\n",
    "print('----------')\n",
    "\n",
    "\n",
    "i = -1\n",
    "while True:\n",
    "    i += 1\n",
    "    if i == 11:\n",
    "        break\n",
    "    print(i)"
   ]
  },
  {
   "cell_type": "code",
   "execution_count": 29,
   "id": "1052ca18",
   "metadata": {},
   "outputs": [
    {
     "name": "stdout",
     "output_type": "stream",
     "text": [
      "Counting...: 1\n",
      "Counting...: 2\n",
      "Counting...: 3\n",
      "-------or-------\n",
      "Counting...: 1\n",
      "Counting...: 2\n",
      "Counting...: 3\n",
      "-------or (using for loop)-------\n",
      "Counting...: 1\n",
      "Counting...: 2\n",
      "Counting...: 3\n"
     ]
    }
   ],
   "source": [
    "counter = 0\n",
    "while counter < 3:\n",
    "    counter += 1\n",
    "    print(\"Counting...:\", counter)\n",
    "\n",
    "\n",
    "print('-------or-------')\n",
    "\n",
    "num = 0\n",
    "counter = num\n",
    "while counter < 4:\n",
    "    counter += 1\n",
    "    if counter == 4:\n",
    "        break\n",
    "    print(\"Counting...:\", counter)\n",
    "\n",
    "\n",
    "print('-------or (using for loop)-------')\n",
    "\n",
    "\n",
    "for counter in range (1,4):\n",
    "    print(\"Counting...:\", counter)\n",
    "    "
   ]
  },
  {
   "cell_type": "code",
   "execution_count": 21,
   "id": "faa61650",
   "metadata": {},
   "outputs": [
    {
     "name": "stdout",
     "output_type": "stream",
     "text": [
      "1\n",
      "2\n",
      "3\n",
      "4\n",
      "5\n",
      "6\n",
      "7\n",
      "8\n",
      "9\n",
      "8\n",
      "7\n",
      "6\n",
      "5\n",
      "4\n",
      "3\n",
      "2\n",
      "---------------------\n",
      "1234567898765432"
     ]
    }
   ],
   "source": [
    "credit_card = \"1234-5678-9876-5432\"\n",
    "\n",
    "for x in credit_card:\n",
    "    if x == '-':\n",
    "        continue\n",
    "    print(x)\n",
    "        #   , \n",
    "        #   end='')\n",
    "\n",
    "print('---------------------')\n",
    "\n",
    "\n",
    "credit_card = \"1234-5678-9876-5432\"\n",
    "\n",
    "for x in credit_card:\n",
    "    if x == '-':\n",
    "        continue\n",
    "    print(x, end='')"
   ]
  },
  {
   "cell_type": "code",
   "execution_count": 23,
   "id": "4df2be8a",
   "metadata": {},
   "outputs": [
    {
     "name": "stdout",
     "output_type": "stream",
     "text": [
      "10\n",
      "9\n",
      "8\n",
      "7\n",
      "6\n",
      "5\n",
      "4\n",
      "3\n",
      "2\n",
      "1\n",
      "Happy new year🎉🥳\n"
     ]
    }
   ],
   "source": [
    "for x in reversed(range (1, 11)):\n",
    "    print(x)\n",
    "print(\"Happy new year🎉🥳\")"
   ]
  }
 ],
 "metadata": {
  "kernelspec": {
   "display_name": "python_problem1",
   "language": "python",
   "name": "python3"
  },
  "language_info": {
   "codemirror_mode": {
    "name": "ipython",
    "version": 3
   },
   "file_extension": ".py",
   "mimetype": "text/x-python",
   "name": "python",
   "nbconvert_exporter": "python",
   "pygments_lexer": "ipython3",
   "version": "3.10.11"
  }
 },
 "nbformat": 4,
 "nbformat_minor": 5
}
