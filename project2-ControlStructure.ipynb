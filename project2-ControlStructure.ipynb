{
 "cells": [
  {
   "cell_type": "markdown",
   "id": "a7287b1b",
   "metadata": {},
   "source": [
    "# Python Control Structure problems\n",
    "\n",
    "---\n",
    "\n",
    "## LOOPS (Iteration-based problems)\n",
    "\n",
    "### 1. Daily Gas Fee Average\n",
    " - Description: Calculate the average gas fee from a list of daily Ethereum gas fees.\n",
    " - Input: List of gas fees (e.g., [30, 40, 35, 50, 45])\n",
    " - Output: Average gas fee (e.g., 40.0)\n",
    "\n",
    "\n",
    "### 2. Highest Daily Transaction Count\n",
    " - Description: Find the day with the highest number of transactions on a blockchain.\n",
    " - Input: List of daily transaction counts (e.g., [1200, 1400, 1350, 1600, 1100])\n",
    " - Output: Day with the highest transaction count (e.g., Day 4)\n",
    "\n",
    "\n",
    "### 3. Find Token Min/Max Price\n",
    " - Description: Determine the lowest and highest price of a token over a week.\n",
    " - Input: List of prices (e.g., [2.1, 2.5, 2.0, 2.8, 2.6])\n",
    " - Output: Min: 2.0, Max: 2.8\n",
    "\n",
    "\n",
    "### 4. Simple Moving Average for Token Price\n",
    " - Description: Compute the simple moving average of a token’s price for a given window.\n",
    " - Input: Prices (e.g., [1.0, 1.2, 1.3, 1.4, 1.6]), Window size (e.g., 3)\n",
    " - Output: List of moving averages (e.g., [1.17, 1.3, 1.43])\n",
    "\n",
    "\n",
    "### 5. Count Profitable Days on DEX\n",
    " - Description: Count the number of days a trader had a positive return on a DEX.\n",
    " - Input: List of daily PnL (e.g., [0.03, -0.02, 0.01, 0.04, -0.01])\n",
    " - Output: Number of profitable days (e.g., 3 days)\n",
    "\n",
    "\n",
    "### 6. Average Number of Tokens Held\n",
    " - Description: Calculate the average number of tokens held across wallets.\n",
    " - Input: List of token holdings per wallet (e.g., [100, 200, 150, 300])\n",
    " - Output: Average tokens held (e.g., 187.5)\n",
    "\n",
    "\n",
    "### 7. Wallets Above Holding Threshold\n",
    " - Description: Count the number of wallets holding more than 100 tokens.\n",
    " - Input: List of holdings (e.g., [50, 150, 120, 80, 200])\n",
    " - Output: Number of wallets above threshold (e.g., 3 wallets)\n",
    "\n",
    "\n",
    "### 8. Total Gas Spent by Wallets\n",
    " - Description: Calculate total gas used by multiple wallets across transactions.\n",
    " - Input: List of gas used per wallet (e.g., [21000, 50000, 32000])\n",
    " - Output: Total gas used (e.g., 103000)\n",
    "\n",
    "\n",
    "### 9. Cumulative Token Airdrop\n",
    " - Description: Calculate the total tokens distributed in an airdrop across multiple addresses.\n",
    " - Input: List of airdrop amounts (e.g., [50, 75, 100, 25])\n",
    " - Output: Total tokens distributed (e.g., 250)\n",
    "\n",
    "\n",
    "### 10. Average Bridge Fee Across Chains\n",
    " - Description: Find the average fee users pay when bridging tokens across chains.\n",
    " - Input: List of fees (e.g., [1.2, 0.8, 1.0, 1.5])\n",
    " - Output: Average fee (e.g., 1.125)\n",
    "\n",
    "---\n",
    "\n",
    "## CONDITIONAL STATEMENTS (Decision-making problems)\n",
    "\n",
    "### 11. Token Price Classification\n",
    " - Description: Classify a token’s price movement as “Bullish” if it increased, “Bearish” if decreased.\n",
    " - Input: Previous price (e.g., 2.0), Current price (e.g., 2.3)\n",
    " - Output: Bullish\n",
    "\n",
    "\n",
    "### 12. Gas Fee Alert System\n",
    " - Description: Alert if Ethereum gas fee exceeds a given threshold (e.g., 100 Gwei).\n",
    " - Input: Gas fee (e.g., 120)\n",
    " - Output: \"High gas fee alert!\"\n",
    "\n",
    "\n",
    "### 13. Detect Whale Wallet\n",
    " - Description: Identify if a wallet is a whale based on token balance (>10,000 tokens).\n",
    " - Input: Token balance (e.g., 15,000)\n",
    " - Output: Whale wallet\n",
    "\n",
    "\n",
    "### 14. Token Transfer Flag\n",
    " - Description: Flag a transaction as “Suspicious” if the amount is above 1 million tokens.\n",
    " - Input: Transfer amount (e.g., 1,200,000)\n",
    " - Output: Suspicious\n",
    "\n",
    "\n",
    "### 15. DEX Slippage Warning\n",
    " - Description: Warn users if the slippage is greater than 5%.\n",
    " - Input: Slippage percentage (e.g., 6.5)\n",
    " - Output: \"High slippage detected\"\n",
    "\n",
    "\n",
    "### 16. NFT Mint Status Check\n",
    " - Description: Check if an NFT is sold out or available for mint.\n",
    " - Input: Total supply (e.g., 10,000), Minted count (e.g., 10,000)\n",
    " - Output: Sold Out\n",
    "\n",
    "### 17. Stablecoin Health Check\n",
    " - Description: Determine if a stablecoin is depegged (if price deviates from $1 by more than ±5%).\n",
    " - Input: Stablecoin price (e.g., 0.93)\n",
    " - Output: Depegged\n",
    "\n",
    "\n",
    "### 18. Reward Eligibility\n",
    " - Description: Check if a user qualifies for staking rewards (must stake ≥ 500 tokens).\n",
    " - Input: Tokens staked (e.g., 300)\n",
    " - Output: Not eligible\n",
    "\n",
    "\n",
    "### 19. Airdrop Eligibility\n",
    " - Description: Check if a wallet is eligible for airdrop (must hold a specific token and have at least 5 transactions).\n",
    " - Input: Holdings (e.g., 100), Number of transactions (e.g., 6)\n",
    " - Output: Eligible\n",
    "\n",
    "\n",
    "### 20. Transaction Fee Efficiency\n",
    " - Description: Flag if a transaction fee is greater than 5% of transaction amount.\n",
    " - Input: Fee (e.g., 3), Transaction amount (e.g., 50)\n",
    " - Output: Efficient"
   ]
  },
  {
   "cell_type": "markdown",
   "id": "49b9e007",
   "metadata": {},
   "source": [
    "# Solution\n",
    "\n",
    "---\n",
    "\n",
    "### 1. Daily Gas Fee Average\n",
    " - Description: Calculate the average gas fee from a list of daily Ethereum gas fees.\n",
    " - Input: List of gas fees (e.g., [30, 40, 35, 50, 45])\n",
    " - Output: Average gas fee (e.g., 40.0)"
   ]
  },
  {
   "cell_type": "code",
   "execution_count": null,
   "id": "eeb33c26",
   "metadata": {},
   "outputs": [
    {
     "name": "stdout",
     "output_type": "stream",
     "text": [
      "40.0\n"
     ]
    }
   ],
   "source": [
    "# for loop\n",
    "\n",
    "gas_fees = [30, 40, 35, 50, 45]\n",
    "num = len(gas_fees)\n",
    "total = 0\n",
    "\n",
    "for x in gas_fees:\n",
    "    total += x\n",
    "# print(total)\n",
    "\n",
    "average = total / num\n",
    "print(average)"
   ]
  },
  {
   "cell_type": "code",
   "execution_count": null,
   "id": "b27db8c4",
   "metadata": {},
   "outputs": [
    {
     "name": "stdout",
     "output_type": "stream",
     "text": [
      "40.0\n"
     ]
    }
   ],
   "source": [
    "# while loop\n",
    "\n",
    "gas_fees = [30, 40, 35, 50, 45]\n",
    "num = len(gas_fees)\n",
    "total = 0\n",
    "y = 0\n",
    "\n",
    "while y < num:\n",
    "    total += gas_fees[y]            # this means... get/slice the value at position y from the list. y is just an index of the list\n",
    "    y += 1\n",
    "# print(total)\n",
    "# print(y)\n",
    "\n",
    "average = total / num\n",
    "print(average)"
   ]
  },
  {
   "cell_type": "markdown",
   "id": "ddd49689",
   "metadata": {},
   "source": [
    "##### _brief illustration_\n",
    "| Index (`y`) | Value (`gas_fees[y]`) |\n",
    "|-------------|------------------------|\n",
    "| 0           | 30                     |\n",
    "| 1           | 40                     |\n",
    "| 2           | 35                     |\n",
    "| 3           | 50                     |\n",
    "| 4           | 45                     |\n"
   ]
  },
  {
   "cell_type": "markdown",
   "id": "75667d70",
   "metadata": {},
   "source": [
    "### 2. Highest Daily Transaction Count\n",
    " - Description: Find the day with the highest number of transactions on a blockchain.\n",
    " - Input: List of daily transaction counts (e.g., [1200, 1400, 1350, 1600, 1100])\n",
    " - Output: Day with the highest transaction count (e.g., Day 4)"
   ]
  },
  {
   "cell_type": "code",
   "execution_count": 43,
   "id": "dc556ef2",
   "metadata": {},
   "outputs": [
    {
     "name": "stdout",
     "output_type": "stream",
     "text": [
      "Day 4\n"
     ]
    }
   ],
   "source": [
    "# for loop\n",
    "\n",
    "daily_tx_count = [1200, 1400, 1350, 1600, 1100]\n",
    "highest_tx = max(daily_tx_count)\n",
    "day = 0\n",
    "\n",
    "for x in daily_tx_count:\n",
    "    day += 1\n",
    "    if x == highest_tx:\n",
    "        break\n",
    "\n",
    "print(f'Day {day}')"
   ]
  },
  {
   "cell_type": "code",
   "execution_count": null,
   "id": "d21750db",
   "metadata": {},
   "outputs": [
    {
     "name": "stdout",
     "output_type": "stream",
     "text": [
      "Day 4\n"
     ]
    }
   ],
   "source": [
    "# while loop\n",
    "\n",
    "daily_tx_count = [1200, 1400, 1350, 1600, 1100]\n",
    "highest_tx = max(daily_tx_count)\n",
    "day = 0\n",
    "i = 0           #index for the list\n",
    "\n",
    "while i < len(daily_tx_count):\n",
    "    day += 1\n",
    "    if daily_tx_count[i] == highest_tx:\n",
    "        break\n",
    "    i += 1\n",
    "\n",
    "print(f'Day {day}')"
   ]
  },
  {
   "cell_type": "markdown",
   "id": "f603cd7c",
   "metadata": {},
   "source": [
    "### 3. Find Token Min/Max Price\n",
    " - Description: Determine the lowest and highest price of a token over a week.\n",
    " - Input: List of prices (e.g., [2.1, 2.5, 2.0, 2.8, 2.6])\n",
    " - Output: Min: 2.0, Max: 2.8"
   ]
  },
  {
   "cell_type": "code",
   "execution_count": null,
   "id": "47d832c9",
   "metadata": {},
   "outputs": [
    {
     "name": "stdout",
     "output_type": "stream",
     "text": [
      "Min: 2.0, Max: 2.8\n"
     ]
    }
   ],
   "source": [
    "# for loop\n",
    "\n",
    "prices = [2.1, 2.5, 2.0, 2.8, 2.6]\n",
    "\n",
    "min_price = prices[0]\n",
    "max_price = prices[0]\n",
    "\n",
    "for price in prices:\n",
    "    if price < min_price:\n",
    "        min_price = price\n",
    "    if price > max_price:\n",
    "        max_price = price\n",
    "# print(max_price)\n",
    "# print(min_price)\n",
    "\n",
    "print(\"Min:\", str(min_price) + \",\", \"Max:\", max_price)"
   ]
  },
  {
   "cell_type": "code",
   "execution_count": 49,
   "id": "409deb2a",
   "metadata": {},
   "outputs": [
    {
     "name": "stdout",
     "output_type": "stream",
     "text": [
      "Min: 2.0, Max: 2.8\n"
     ]
    }
   ],
   "source": [
    "# while loop\n",
    "\n",
    "prices = [2.1, 2.5, 2.0, 2.8, 2.6]\n",
    "\n",
    "min_price = prices[0]\n",
    "max_price = prices[0]\n",
    "\n",
    "i = 0\n",
    "\n",
    "while i < len(prices):\n",
    "    price = prices[i]\n",
    "    if price < min_price:\n",
    "        min_price = price\n",
    "    if price > max_price:\n",
    "        max_price = price\n",
    "    i += 1\n",
    "\n",
    "print(\"Min:\", str(min_price) + \",\", \"Max:\", max_price)"
   ]
  },
  {
   "cell_type": "markdown",
   "id": "f1b7acd1",
   "metadata": {},
   "source": [
    "### 4. Simple Moving Average for Token Price\n",
    " - Description: Compute the simple moving average of a token’s price for a given window.\n",
    " - Input: Prices (e.g., [1.0, 1.2, 1.3, 1.4, 1.6]), Window size (e.g., 3)\n",
    " - Output: List of moving averages (e.g., [1.17, 1.3, 1.43])"
   ]
  },
  {
   "cell_type": "code",
   "execution_count": 62,
   "id": "33743073",
   "metadata": {},
   "outputs": [
    {
     "name": "stdout",
     "output_type": "stream",
     "text": [
      "[1.17, 1.3, 1.43]\n"
     ]
    }
   ],
   "source": [
    "# for loop\n",
    "\n",
    "token_prices = [1.0, 1.2, 1.3, 1.4, 1.6]\n",
    "window_size = 3\n",
    "moving_averages = []\n",
    "\n",
    "for i in range(len(token_prices) - window_size + 1):\n",
    "    window = token_prices[i:i+window_size]\n",
    "    average = sum(window) / window_size\n",
    "    moving_averages.append(round(average, 2))\n",
    "\n",
    "print(moving_averages)"
   ]
  },
  {
   "cell_type": "code",
   "execution_count": null,
   "id": "e4eda1af",
   "metadata": {},
   "outputs": [
    {
     "name": "stdout",
     "output_type": "stream",
     "text": [
      "[1.17, 1.3, 1.43]\n"
     ]
    }
   ],
   "source": [
    "# while loop\n",
    "\n",
    "token_prices = [1.0, 1.2, 1.3, 1.4, 1.6]\n",
    "window_size = 3\n",
    "moving_averages = []\n",
    "\n",
    "i = 0\n",
    "while i <= len(token_prices) - window_size:\n",
    "    window = token_prices[i:i+window_size]\n",
    "    average = sum(window) / window_size\n",
    "    moving_averages.append(round(average, 2))\n",
    "    i += 1\n",
    "\n",
    "print(moving_averages)"
   ]
  },
  {
   "cell_type": "code",
   "execution_count": null,
   "id": "430f66de",
   "metadata": {},
   "outputs": [],
   "source": []
  },
  {
   "cell_type": "code",
   "execution_count": null,
   "id": "5a2e2489",
   "metadata": {},
   "outputs": [],
   "source": []
  },
  {
   "cell_type": "code",
   "execution_count": null,
   "id": "0ac9b631",
   "metadata": {},
   "outputs": [],
   "source": []
  },
  {
   "cell_type": "code",
   "execution_count": null,
   "id": "19b10cc7",
   "metadata": {},
   "outputs": [],
   "source": []
  },
  {
   "cell_type": "code",
   "execution_count": null,
   "id": "b9031083",
   "metadata": {},
   "outputs": [],
   "source": []
  },
  {
   "cell_type": "code",
   "execution_count": null,
   "id": "e7c89d30",
   "metadata": {},
   "outputs": [],
   "source": []
  },
  {
   "cell_type": "code",
   "execution_count": null,
   "id": "2d5a7420",
   "metadata": {},
   "outputs": [],
   "source": []
  },
  {
   "cell_type": "code",
   "execution_count": null,
   "id": "4c288fc1",
   "metadata": {},
   "outputs": [],
   "source": []
  },
  {
   "cell_type": "code",
   "execution_count": null,
   "id": "f9f2cacb",
   "metadata": {},
   "outputs": [],
   "source": []
  },
  {
   "cell_type": "code",
   "execution_count": null,
   "metadata": {},
   "outputs": [],
   "source": []
  },
  {
   "cell_type": "code",
   "execution_count": null,
   "id": "59925378",
   "metadata": {},
   "outputs": [],
   "source": []
  },
  {
   "cell_type": "code",
   "execution_count": null,
   "metadata": {},
   "outputs": [],
   "source": []
  },
  {
   "cell_type": "code",
   "execution_count": null,
   "metadata": {},
   "outputs": [],
   "source": []
  },
  {
   "cell_type": "code",
   "execution_count": null,
   "metadata": {},
   "outputs": [],
   "source": []
  },
  {
   "cell_type": "code",
   "execution_count": null,
   "id": "1080e239",
   "metadata": {},
   "outputs": [],
   "source": []
  },
  {
   "cell_type": "markdown",
   "id": "c7c2d7b2",
   "metadata": {},
   "source": [
    "<!-- --- -->"
   ]
  },
  {
   "cell_type": "markdown",
   "id": "d63e0d9e",
   "metadata": {},
   "source": [
    "---\n",
    "### Just playing around with `for` and `while` loops .....not serious though"
   ]
  },
  {
   "cell_type": "code",
   "execution_count": 27,
   "id": "229245fe",
   "metadata": {},
   "outputs": [
    {
     "name": "stdout",
     "output_type": "stream",
     "text": [
      "0\n",
      "1\n",
      "2\n",
      "3\n",
      "4\n",
      "5\n",
      "6\n",
      "7\n",
      "8\n",
      "9\n",
      "10\n",
      "----------\n",
      "0\n",
      "1\n",
      "2\n",
      "3\n",
      "4\n",
      "5\n",
      "6\n",
      "7\n",
      "8\n",
      "9\n",
      "10\n"
     ]
    }
   ],
   "source": [
    "for i in range(11):\n",
    "    print(i)  \n",
    "\n",
    "\n",
    "print('----------')\n",
    "\n",
    "\n",
    "i = -1\n",
    "while True:\n",
    "    i += 1\n",
    "    if i == 11:\n",
    "        break\n",
    "    print(i)"
   ]
  },
  {
   "cell_type": "code",
   "execution_count": 29,
   "id": "1052ca18",
   "metadata": {},
   "outputs": [
    {
     "name": "stdout",
     "output_type": "stream",
     "text": [
      "Counting...: 1\n",
      "Counting...: 2\n",
      "Counting...: 3\n",
      "-------or-------\n",
      "Counting...: 1\n",
      "Counting...: 2\n",
      "Counting...: 3\n",
      "-------or (using for loop)-------\n",
      "Counting...: 1\n",
      "Counting...: 2\n",
      "Counting...: 3\n"
     ]
    }
   ],
   "source": [
    "counter = 0\n",
    "while counter < 3:\n",
    "    counter += 1\n",
    "    print(\"Counting...:\", counter)\n",
    "\n",
    "\n",
    "print('-------or-------')\n",
    "\n",
    "num = 0\n",
    "counter = num\n",
    "while counter < 4:\n",
    "    counter += 1\n",
    "    if counter == 4:\n",
    "        break\n",
    "    print(\"Counting...:\", counter)\n",
    "\n",
    "\n",
    "print('-------or (using for loop)-------')\n",
    "\n",
    "\n",
    "for counter in range (1,4):\n",
    "    print(\"Counting...:\", counter)\n",
    "    "
   ]
  },
  {
   "cell_type": "code",
   "execution_count": 21,
   "id": "faa61650",
   "metadata": {},
   "outputs": [
    {
     "name": "stdout",
     "output_type": "stream",
     "text": [
      "1\n",
      "2\n",
      "3\n",
      "4\n",
      "5\n",
      "6\n",
      "7\n",
      "8\n",
      "9\n",
      "8\n",
      "7\n",
      "6\n",
      "5\n",
      "4\n",
      "3\n",
      "2\n",
      "---------------------\n",
      "1234567898765432"
     ]
    }
   ],
   "source": [
    "credit_card = \"1234-5678-9876-5432\"\n",
    "\n",
    "for x in credit_card:\n",
    "    if x == '-':\n",
    "        continue\n",
    "    print(x)\n",
    "        #   , \n",
    "        #   end='')\n",
    "\n",
    "print('---------------------')\n",
    "\n",
    "\n",
    "credit_card = \"1234-5678-9876-5432\"\n",
    "\n",
    "for x in credit_card:\n",
    "    if x == '-':\n",
    "        continue\n",
    "    print(x, end='')"
   ]
  },
  {
   "cell_type": "code",
   "execution_count": 23,
   "id": "4df2be8a",
   "metadata": {},
   "outputs": [
    {
     "name": "stdout",
     "output_type": "stream",
     "text": [
      "10\n",
      "9\n",
      "8\n",
      "7\n",
      "6\n",
      "5\n",
      "4\n",
      "3\n",
      "2\n",
      "1\n",
      "Happy new year🎉🥳\n"
     ]
    }
   ],
   "source": [
    "for x in reversed(range (1, 11)):\n",
    "    print(x)\n",
    "print(\"Happy new year🎉🥳\")"
   ]
  }
 ],
 "metadata": {
  "kernelspec": {
   "display_name": "python_problem1",
   "language": "python",
   "name": "python3"
  },
  "language_info": {
   "codemirror_mode": {
    "name": "ipython",
    "version": 3
   },
   "file_extension": ".py",
   "mimetype": "text/x-python",
   "name": "python",
   "nbconvert_exporter": "python",
   "pygments_lexer": "ipython3",
   "version": "3.10.11"
  }
 },
 "nbformat": 4,
 "nbformat_minor": 5
}
